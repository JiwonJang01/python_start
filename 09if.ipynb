{
 "cells": [
  {
   "cell_type": "code",
   "execution_count": 2,
   "id": "e4698b51-4199-4783-b28e-e41ec9bfa370",
   "metadata": {
    "tags": []
   },
   "outputs": [
    {
     "name": "stdout",
     "output_type": "stream",
     "text": [
      "hello world\n",
      "파이썬 공부 중입니다\n"
     ]
    }
   ],
   "source": [
    "#if문\n",
    "#특정 조건에서마 실행되는 코드 블록을 작성할 때 사용\n",
    "\n",
    "if True:\n",
    "    print(\"hello world\")\n",
    "print(\"파이썬 공부 중입니다\")"
   ]
  },
  {
   "cell_type": "code",
   "execution_count": 3,
   "id": "d8d71076-a20b-41ae-9082-87742c331f31",
   "metadata": {
    "tags": []
   },
   "outputs": [
    {
     "name": "stdout",
     "output_type": "stream",
     "text": [
      "파이썬 공부 중입니다\n"
     ]
    }
   ],
   "source": [
    "if False:\n",
    "    print(\"hello world\")\n",
    "print(\"파이썬 공부 중입니다\")"
   ]
  },
  {
   "cell_type": "code",
   "execution_count": 4,
   "id": "ea7c415b-d3ad-47c3-b11c-f7b388859768",
   "metadata": {
    "tags": []
   },
   "outputs": [
    {
     "ename": "SyntaxError",
     "evalue": "cannot assign to literal here. Maybe you meant '==' instead of '='? (2813602446.py, line 1)",
     "output_type": "error",
     "traceback": [
      "\u001b[1;36m  Cell \u001b[1;32mIn[4], line 1\u001b[1;36m\u001b[0m\n\u001b[1;33m    if 1 = 1: # 대입 연선저 = 은 같다는 의미로 사용되지 않ㅇ므\u001b[0m\n\u001b[1;37m       ^\u001b[0m\n\u001b[1;31mSyntaxError\u001b[0m\u001b[1;31m:\u001b[0m cannot assign to literal here. Maybe you meant '==' instead of '='?\n"
     ]
    }
   ],
   "source": [
    "if 1 = 1: # 대입 연선저 = 은 같다는 의미로 사용되지 않ㅇ므\n",
    "    print(\"들여쓰기가 지켜지더라도 오류\")"
   ]
  },
  {
   "cell_type": "code",
   "execution_count": 5,
   "id": "330b79ba-5392-4e10-bb51-66b328905f8f",
   "metadata": {
    "tags": []
   },
   "outputs": [
    {
     "name": "stdout",
     "output_type": "stream",
     "text": [
      "int 자료형 입니다.\n",
      "감사합니다\n"
     ]
    }
   ],
   "source": [
    "int_value = 10\n",
    "if type(int_value) is int: \n",
    "    print(\"int 자료형 입니다.\")\n",
    "print(\"감사합니다\")"
   ]
  },
  {
   "cell_type": "code",
   "execution_count": 9,
   "id": "5dddd9fe-df97-4c1d-a639-0043390c2508",
   "metadata": {
    "tags": []
   },
   "outputs": [
    {
     "name": "stdout",
     "output_type": "stream",
     "text": [
      "감사합니다\n"
     ]
    }
   ],
   "source": [
    "int_value = 10\n",
    "if type(int_value) is str: # type이 str이라면 \n",
    "    print(\"int 자료형 입니다.\")\n",
    "print(\"감사합니다\")"
   ]
  },
  {
   "cell_type": "code",
   "execution_count": 10,
   "id": "edbf3183-a85d-4631-8221-88b0ccc2bb8b",
   "metadata": {
    "tags": []
   },
   "outputs": [],
   "source": [
    "#  복합적인 조건을 따져서 실행하는 if문을 작성하고 싶을 때는 논리 연산자를 활용하는 것이 좋습니다.\n",
    "int_value2 = 100\n",
    "\n",
    "# int_value2의 값이 10 보다 크고, int 값을 가질 때면 \"안녕하세요\"를 출력\n",
    "if int_value > 10 and type(int_value2) is int:\n",
    "    print(\"안녕하세요\")"
   ]
  },
  {
   "cell_type": "code",
   "execution_count": 11,
   "id": "9571f4f8-598e-46ce-844e-d476579b7c52",
   "metadata": {
    "tags": []
   },
   "outputs": [
    {
     "name": "stdout",
     "output_type": "stream",
     "text": [
      "합격입니다.\n"
     ]
    }
   ],
   "source": [
    "# if 와 else를 활용한 분기\n",
    "score = 60\n",
    "\n",
    "# score가 60점 이상일때 합격 -> 합격입니다.를 출력, 60점 미만일 떄는 불합격 입니다.를 출력\n",
    "if score >= 60:\n",
    "    print(\"합격입니다.\")\n",
    "else:\n",
    "     print(\"불합격입니다.\")"
   ]
  },
  {
   "cell_type": "code",
   "execution_count": 12,
   "id": "766b6dba-a8db-4547-90c2-88a4f304baad",
   "metadata": {
    "tags": []
   },
   "outputs": [
    {
     "name": "stdout",
     "output_type": "stream",
     "text": [
      "불합격입니다.\n"
     ]
    }
   ],
   "source": [
    "# if 와 else를 활용한 분기\n",
    "score = 60 -1 #59\n",
    "\n",
    "# score가 60점 이상일때 합격 -> 합격입니다.를 출력, 60점 미만일 떄는 불합격 입니다.를 출력\n",
    "if score >= 60:\n",
    "    print(\"합격입니다.\")\n",
    "else:\n",
    "     print(\"불합격입니다.\")"
   ]
  },
  {
   "cell_type": "code",
   "execution_count": 13,
   "id": "b82ae455-580f-4fcc-8412-fd11c7a8e01a",
   "metadata": {
    "tags": []
   },
   "outputs": [],
   "source": [
    "# if 와 elif를 활용한 분기\n",
    "age = 40\n",
    "\n",
    "# 20대라면 20대입니다. 라고 출력\n",
    "if 20 <= age < 30: # false\n",
    "    print(\"20대입니다\")\n",
    "# 30대라면  30대 입니다. 라고 출력\n",
    "elif 30 <= age < 40: #fasle\n",
    "    print(\"30대입니다.\")"
   ]
  },
  {
   "cell_type": "code",
   "execution_count": 15,
   "id": "f19c34d0-dc0f-4f97-9e93-69d74bcac483",
   "metadata": {
    "tags": []
   },
   "outputs": [
    {
     "name": "stdout",
     "output_type": "stream",
     "text": [
      "30대입니다.\n"
     ]
    }
   ],
   "source": [
    "# if 와 elif를 활용한 분기\n",
    "age = 37\n",
    "\n",
    "# 20대라면 20대입니다. 라고 출력\n",
    "if 20 <= age < 30: # false\n",
    "    print(\"20대입니다\")\n",
    "# 30대라면  30대 입니다. 라고 출력\n",
    "elif 30 <= age < 40: #true\n",
    "    print(\"30대입니다.\")"
   ]
  },
  {
   "cell_type": "code",
   "execution_count": 16,
   "id": "a6293e9e-6838-4ee7-9286-69644d9099bb",
   "metadata": {
    "tags": []
   },
   "outputs": [
    {
     "name": "stdout",
     "output_type": "stream",
     "text": [
      "20대입니다\n"
     ]
    }
   ],
   "source": [
    "# if 와 elif를 활용한 분기\n",
    "age = 27\n",
    "\n",
    "# 20대라면 20대입니다. 라고 출력\n",
    "if 20 <= age < 30: # true\n",
    "    print(\"20대입니다\")\n",
    "# 30대라면  30대 입니다. 라고 출력\n",
    "elif 30 <= age < 40: # 실행되지 않음 조건을 따졌을 때에는 true\n",
    "    print(\"30대입니다.\")"
   ]
  },
  {
   "cell_type": "code",
   "execution_count": 17,
   "id": "8099c849-cecb-45f5-9c6d-94984827c36d",
   "metadata": {
    "tags": []
   },
   "outputs": [
    {
     "name": "stdout",
     "output_type": "stream",
     "text": [
      "20대입니다\n"
     ]
    }
   ],
   "source": [
    "# if 와 elif를 활용한 분기\n",
    "age = 27\n",
    "\n",
    "# 20대라면 20대입니다. 라고 출력\n",
    "if 20 <= age < 30: # true\n",
    "    print(\"20대입니다\")\n",
    "# 30대라면  30대 입니다. 라고 출력\n",
    "elif 20 <= age < 40: #fasle\n",
    "    print(\"30대입니다.\")"
   ]
  },
  {
   "cell_type": "code",
   "execution_count": 18,
   "id": "747e8316-5eed-44dc-a15b-2344f682a105",
   "metadata": {
    "tags": []
   },
   "outputs": [
    {
     "name": "stdout",
     "output_type": "stream",
     "text": [
      "2의 배수입니다.\n"
     ]
    }
   ],
   "source": [
    "# 2의 배수와 3의 배수인지 조건을 때지는 분기문 작성\n",
    "some_number = 6\n",
    "\n",
    "# 2의 배수를 먼저 체크\n",
    "if  some_number % 2 == 0:\n",
    "    print(\"2의 배수입니다.\")\n",
    "elif some_number % 3 == 0:\n",
    "    print(\"3의 배수입니다\")"
   ]
  },
  {
   "cell_type": "code",
   "execution_count": 20,
   "id": "e899f687-49b9-4837-8e2b-26ac15d386ff",
   "metadata": {
    "tags": []
   },
   "outputs": [
    {
     "name": "stdout",
     "output_type": "stream",
     "text": [
      "3의 배수입니다\n"
     ]
    }
   ],
   "source": [
    "# 2의 배수와 3의 배수인지 조건을 때지는 분기문 작성\n",
    "some_number = 6\n",
    "\n",
    "# 3의 배수 먼저 체크\n",
    "if some_number % 3 == 0:\n",
    "    print(\"3의 배수입니다\")\n",
    "elif  some_number % 2 == 0:\n",
    "    print(\"2의 배수입니다.\")\n"
   ]
  },
  {
   "cell_type": "code",
   "execution_count": 21,
   "id": "a7add994-ef7f-449e-8ba3-e8141b48ed93",
   "metadata": {
    "tags": []
   },
   "outputs": [
    {
     "name": "stdout",
     "output_type": "stream",
     "text": [
      "불혹을 넘기셨습니다\n"
     ]
    }
   ],
   "source": [
    "# if 와 elif를 활용한 분기\n",
    "age = 42\n",
    "\n",
    "# 30대라면  30대 입니다. 라고 출력\n",
    "if 30 <= age < 40: #fasle\n",
    "    print(\"30대입니다.\")\n",
    "    # 20대라면 20대입니다. 라고 출력\n",
    "elif 20 <= age < 30: # true\n",
    "    print(\"20대입니다\")\n",
    "elif 0 <= age < 20: # true\n",
    "    print(\"미성년자 입니다\")\n",
    "else:\n",
    "    print(\"불혹을 넘기셨습니다\")"
   ]
  },
  {
   "cell_type": "code",
   "execution_count": 22,
   "id": "10503759-1498-486a-bab2-be694afa9729",
   "metadata": {
    "tags": []
   },
   "outputs": [
    {
     "name": "stdout",
     "output_type": "stream",
     "text": [
      "성적을 알려드립니다\n",
      "A\n"
     ]
    }
   ],
   "source": [
    "score = 90\n",
    "\n",
    "print(\"성적을 알려드립니다\")\n",
    "\n",
    "if score >= 90: #true\n",
    "    print(\"A\")\n",
    "elif 80 <= score < 90:\n",
    "     print(\"B\")\n",
    "elif 70 <= score < 80:\n",
    "     print(\"C\")\n",
    "elif 60 <= score < 70:\n",
    "     print(\"D\")\n",
    "else:\n",
    "    print(\"F\")"
   ]
  },
  {
   "cell_type": "code",
   "execution_count": 23,
   "id": "54dfeb82-202f-4432-ba82-74f6c0b8582b",
   "metadata": {
    "tags": []
   },
   "outputs": [
    {
     "name": "stdout",
     "output_type": "stream",
     "text": [
      "성적을 알려드립니다\n",
      "D\n"
     ]
    }
   ],
   "source": [
    "score = 65\n",
    "\n",
    "print(\"성적을 알려드립니다\")\n",
    "\n",
    "if score >= 90: #false\n",
    "    print(\"A\")\n",
    "elif 80 <= score < 90: #false\n",
    "     print(\"B\")\n",
    "elif 70 <= score < 80:#false\n",
    "     print(\"C\")\n",
    "elif 60 <= score < 70:#true\n",
    "     print(\"D\")\n",
    "else:#실행되지 않음\n",
    "    print(\"F\")"
   ]
  },
  {
   "cell_type": "code",
   "execution_count": 24,
   "id": "95d7560b-63c7-4547-a4ee-4f039dfe01a9",
   "metadata": {
    "tags": []
   },
   "outputs": [
    {
     "name": "stdout",
     "output_type": "stream",
     "text": [
      "성적을 알려드립니다\n",
      "D\n"
     ]
    }
   ],
   "source": [
    "score = 65\n",
    "\n",
    "print(\"성적을 알려드립니다\")\n",
    "\n",
    "if score >= 90: #false\n",
    "    print(\"A\")\n",
    "elif 80 <= score : #false\n",
    "     print(\"B\")\n",
    "elif 70 <= score :#false\n",
    "     print(\"C\")\n",
    "elif 60 <= score :#true\n",
    "     print(\"D\")\n",
    "else:#실행되지 않음\n",
    "    print(\"F\")"
   ]
  },
  {
   "cell_type": "code",
   "execution_count": null,
   "id": "64d65a7f-2adf-44eb-9eb2-0edcedb606ac",
   "metadata": {},
   "outputs": [],
   "source": []
  }
 ],
 "metadata": {
  "kernelspec": {
   "display_name": "Python 3 (ipykernel)",
   "language": "python",
   "name": "python3"
  },
  "language_info": {
   "codemirror_mode": {
    "name": "ipython",
    "version": 3
   },
   "file_extension": ".py",
   "mimetype": "text/x-python",
   "name": "python",
   "nbconvert_exporter": "python",
   "pygments_lexer": "ipython3",
   "version": "3.11.5"
  }
 },
 "nbformat": 4,
 "nbformat_minor": 5
}
