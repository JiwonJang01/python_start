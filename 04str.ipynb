{
 "cells": [
  {
   "cell_type": "code",
   "execution_count": 2,
   "id": "f1a41fc3-ab33-45ce-aa85-c8f6f2836d74",
   "metadata": {
    "tags": []
   },
   "outputs": [
    {
     "name": "stdout",
     "output_type": "stream",
     "text": [
      "이것은 문자열 리터럴 입니다.\n"
     ]
    }
   ],
   "source": [
    "# str : 시퀀스 자료형 중 하나\n",
    "# 시퀀스 자료형 : 연속해서 값을 갖는 자료형\n",
    "# wtr literal: 작은 따옴표 혹은 큰 따옴표를 작성해서 텍스트의 행위를 나타낸다\n",
    "x = '이것은 문자열 리터럴 입니다.' # 문자열리터럴\n",
    "y = \"이것은 문자열 리터럴 입니다.\" # 문자열리터럴\n",
    "\n",
    "print(x)"
   ]
  },
  {
   "cell_type": "code",
   "execution_count": 3,
   "id": "ed1bd560-eb53-42f1-8fcc-9dca3380d544",
   "metadata": {
    "tags": []
   },
   "outputs": [
    {
     "name": "stdout",
     "output_type": "stream",
     "text": [
      "이것은 문자열 리터럴 입니다.\n"
     ]
    }
   ],
   "source": [
    "print(y)"
   ]
  },
  {
   "cell_type": "code",
   "execution_count": 4,
   "id": "1af83b30-b2db-403f-b44c-b527c185b0f2",
   "metadata": {
    "tags": []
   },
   "outputs": [
    {
     "name": "stdout",
     "output_type": "stream",
     "text": [
      "<class 'str'>\n"
     ]
    }
   ],
   "source": [
    "print(type(x))"
   ]
  },
  {
   "cell_type": "code",
   "execution_count": 5,
   "id": "2301b484-5e1c-4ae9-bde0-693a197f3781",
   "metadata": {
    "tags": []
   },
   "outputs": [
    {
     "name": "stdout",
     "output_type": "stream",
     "text": [
      "<class 'str'>\n"
     ]
    }
   ],
   "source": [
    "print(type(y))"
   ]
  },
  {
   "cell_type": "code",
   "execution_count": 12,
   "id": "e8e8c0fd-c4ad-48e1-bd99-068341a78102",
   "metadata": {
    "tags": []
   },
   "outputs": [
    {
     "name": "stdout",
     "output_type": "stream",
     "text": [
      "don't do that\n"
     ]
    }
   ],
   "source": [
    "# 작은 따옴표를 텍스트 자체로 쓰고 싶다면?\n",
    "# \\ 를 작은 따옴표 바로 앞에 붙여서 사용\n",
    "text3 = 'don\\'t do that'\n",
    "print(text3)"
   ]
  },
  {
   "cell_type": "code",
   "execution_count": 14,
   "id": "3a6fc426-ffb0-4e82-9bae-2f20e1e450f3",
   "metadata": {
    "tags": []
   },
   "outputs": [
    {
     "name": "stdout",
     "output_type": "stream",
     "text": [
      "don't do that\n"
     ]
    }
   ],
   "source": [
    "# 큰따옴표를 사용\n",
    "text4 = \"don't do that\"\n",
    "print(text4)"
   ]
  },
  {
   "cell_type": "code",
   "execution_count": 15,
   "id": "4d361b94-6302-4d0d-b296-782555485f1e",
   "metadata": {
    "tags": []
   },
   "outputs": [
    {
     "name": "stdout",
     "output_type": "stream",
     "text": [
      "그가 나를 바라보고 \"안녕하세요\"라고 했다\n"
     ]
    }
   ],
   "source": [
    "text1 = '그가 나를 바라보고 \"안녕하세요\"라고 했다'\n",
    "print(text1)"
   ]
  },
  {
   "cell_type": "code",
   "execution_count": 17,
   "id": "2a881bca-a759-4001-bae0-1d139191daca",
   "metadata": {
    "tags": []
   },
   "outputs": [
    {
     "name": "stdout",
     "output_type": "stream",
     "text": [
      "첫번째 문장입니다.\n",
      "두번때 문장입니다\n"
     ]
    }
   ],
   "source": [
    "# 문자열 안의 \\n 은 줄바꿈을 의미한다.\n",
    "text2 = \"첫번째 문장입니다.\\n두번때 문장입니다\"\n",
    "print(text2)"
   ]
  },
  {
   "cell_type": "code",
   "execution_count": 20,
   "id": "1a96afd6-45a1-455e-8722-d6a47ff61c09",
   "metadata": {
    "tags": []
   },
   "outputs": [
    {
     "name": "stdout",
     "output_type": "stream",
     "text": [
      "c:\n",
      "ame\n"
     ]
    }
   ],
   "source": [
    "# 경우에 따라 \\n이라는 값을 직접 문자열에 담고 싶을때\n",
    "# row string으로 표현\n",
    "# \\\\ 을 사용하여 \\ 그대로 출력\n",
    "\n",
    "text5 = \"c:\\name\"\n",
    "print(text5)"
   ]
  },
  {
   "cell_type": "code",
   "execution_count": 21,
   "id": "02ab182b-d650-4fc1-85d7-0d5d0b5feacc",
   "metadata": {
    "tags": []
   },
   "outputs": [
    {
     "name": "stdout",
     "output_type": "stream",
     "text": [
      "c:\\name\n"
     ]
    }
   ],
   "source": [
    "text6 = r\"c:\\name\" # row str\n",
    "print(text6)"
   ]
  },
  {
   "cell_type": "code",
   "execution_count": 22,
   "id": "400f4c21-18b6-4ae1-a250-8b553e94ddcb",
   "metadata": {
    "tags": []
   },
   "outputs": [
    {
     "name": "stdout",
     "output_type": "stream",
     "text": [
      "c:\\name\n"
     ]
    }
   ],
   "source": [
    "text7 = 'c:\\\\name' # \\\\ 역슬래시 하나로 표현\n",
    "print(text7)"
   ]
  },
  {
   "cell_type": "code",
   "execution_count": 28,
   "id": "931bf513-8077-46ae-ad68-8e9201df69e9",
   "metadata": {
    "tags": []
   },
   "outputs": [
    {
     "name": "stdout",
     "output_type": "stream",
     "text": [
      "동해물과\n",
      "백두산이\n",
      "마르고 닳도록\n",
      "\n"
     ]
    }
   ],
   "source": [
    "# 삼중 따옴표 리터럴\n",
    "# 텍스트 자체의 줄바꿈도 인식됨\n",
    "# \"\"\"\\는 처음 줄바꿈 무시\n",
    "trxt8 = \"\"\"\\\n",
    "동해물과\n",
    "백두산이\n",
    "마르고 닳도록\n",
    "\"\"\"\n",
    "print(trxt8)"
   ]
  },
  {
   "cell_type": "code",
   "execution_count": 29,
   "id": "b4d62ada-b6df-4e78-826e-7310f3d6e00d",
   "metadata": {
    "tags": []
   },
   "outputs": [],
   "source": [
    "#산술 연산자도 문자열에서 사용 가능\n",
    "# * : 앞에 오는 문자열을 뒤에 오는 숫자만큼 반복\n",
    "# + : 연산자 앞 뒤 문장을 이어서 출력\n",
    "text9 = \"너무\"\n",
    "text10 = \"파이썬 공부가 즐겁습니다\""
   ]
  },
  {
   "cell_type": "code",
   "execution_count": 30,
   "id": "63553f0b-2d49-4c24-98bc-64027e8ea5ba",
   "metadata": {
    "tags": []
   },
   "outputs": [
    {
     "name": "stdout",
     "output_type": "stream",
     "text": [
      "너무너무너무너무너무너무너무너무너무너무\n"
     ]
    }
   ],
   "source": [
    "print(text9 * 10)"
   ]
  },
  {
   "cell_type": "code",
   "execution_count": 33,
   "id": "98600ccd-ab0b-42ca-865f-4952a7ef82ff",
   "metadata": {
    "tags": []
   },
   "outputs": [
    {
     "name": "stdout",
     "output_type": "stream",
     "text": [
      "너무너무너무너무너무너무너무너무너무너무파이썬 공부가 즐겁습니다\n"
     ]
    }
   ],
   "source": [
    "print(text9 * 10 + text10)\n",
    "# 곱셉이 먼저"
   ]
  },
  {
   "cell_type": "code",
   "execution_count": 35,
   "id": "ad1d463b-ea97-40ec-8839-7f49263e918f",
   "metadata": {
    "tags": []
   },
   "outputs": [
    {
     "name": "stdout",
     "output_type": "stream",
     "text": [
      "h\n"
     ]
    }
   ],
   "source": [
    "# index : 0부터 순서대로 1씩 숫자가 증가하도록 시퀀스 자료형에 붙여둔 숫자\n",
    "# 이 index 식별을 위한 숫자\n",
    "text13 = \"Python\"\n",
    "# 0 1 2 3 4 5\n",
    "# -6 -5 -4 -3 -2 -1\n",
    "print(text13[3])"
   ]
  },
  {
   "cell_type": "code",
   "execution_count": 36,
   "id": "93f4c8e7-1f00-4675-baeb-0e03992d1850",
   "metadata": {
    "tags": []
   },
   "outputs": [],
   "source": [
    "#index범위를 넘어가면 에러 발생"
   ]
  },
  {
   "cell_type": "code",
   "execution_count": 37,
   "id": "ebc8940c-c1ba-4dd3-b09c-c5c9948fd6f3",
   "metadata": {
    "tags": []
   },
   "outputs": [
    {
     "name": "stdout",
     "output_type": "stream",
     "text": [
      "yth\n"
     ]
    }
   ],
   "source": [
    "# 문자열 슬라이싱 : 범위로써 인덱스 위치에 있는 요소를 꺼내옴\n",
    "print(text13[1:4])"
   ]
  },
  {
   "cell_type": "code",
   "execution_count": 38,
   "id": "e0db53b4-6263-4e18-b17d-3a4ef9b78445",
   "metadata": {
    "tags": []
   },
   "outputs": [
    {
     "name": "stdout",
     "output_type": "stream",
     "text": [
      "Py\n"
     ]
    }
   ],
   "source": [
    "print(text13[0:2])"
   ]
  },
  {
   "cell_type": "code",
   "execution_count": 39,
   "id": "27708680-dbf8-4674-a40b-a613d42aa38b",
   "metadata": {
    "tags": []
   },
   "outputs": [
    {
     "name": "stdout",
     "output_type": "stream",
     "text": [
      "Python\n"
     ]
    }
   ],
   "source": [
    "print(text13[:])"
   ]
  },
  {
   "cell_type": "code",
   "execution_count": 40,
   "id": "78aeb784-4410-4962-ada4-8808e123b9c1",
   "metadata": {
    "tags": []
   },
   "outputs": [
    {
     "name": "stdout",
     "output_type": "stream",
     "text": [
      "hon\n"
     ]
    }
   ],
   "source": [
    "print(text13[3:])"
   ]
  },
  {
   "cell_type": "code",
   "execution_count": 41,
   "id": "69e58cb1-8232-40a8-b6c5-8d9fee4832f5",
   "metadata": {
    "tags": []
   },
   "outputs": [
    {
     "name": "stdout",
     "output_type": "stream",
     "text": [
      "hn\n"
     ]
    }
   ],
   "source": [
    "print(text13[3::2])\n",
    "# 3::2 => 3,5"
   ]
  },
  {
   "cell_type": "code",
   "execution_count": 45,
   "id": "4da14f0f-93e9-418e-bd05-a4c3e15c5ec2",
   "metadata": {
    "tags": []
   },
   "outputs": [
    {
     "name": "stdout",
     "output_type": "stream",
     "text": [
      "nohtyP\n"
     ]
    }
   ],
   "source": [
    "print(text13[::-1])"
   ]
  },
  {
   "cell_type": "code",
   "execution_count": 46,
   "id": "0fc07245-4cd7-414a-a449-bcd322b84df2",
   "metadata": {
    "tags": []
   },
   "outputs": [
    {
     "name": "stdout",
     "output_type": "stream",
     "text": [
      "nohtyP\n"
     ]
    }
   ],
   "source": [
    "print(text13[5::-1])"
   ]
  },
  {
   "cell_type": "code",
   "execution_count": 47,
   "id": "6b21706f-04b8-4b52-a592-d27ae6ca6bff",
   "metadata": {
    "tags": []
   },
   "outputs": [],
   "source": [
    "# 슬라이싱의 경우 인덱스값을 벗어나도 유연한 처리"
   ]
  },
  {
   "cell_type": "code",
   "execution_count": 48,
   "id": "ec9d6b5f-38f8-43ec-9ca0-d781de5841a5",
   "metadata": {
    "tags": []
   },
   "outputs": [
    {
     "name": "stdout",
     "output_type": "stream",
     "text": [
      "Python\n"
     ]
    }
   ],
   "source": [
    "# len : 시퀀스의 길이 구하기\n",
    "print(text13)"
   ]
  },
  {
   "cell_type": "code",
   "execution_count": 49,
   "id": "2eb144ff-e52a-4077-923d-9807de324288",
   "metadata": {
    "tags": []
   },
   "outputs": [
    {
     "name": "stdout",
     "output_type": "stream",
     "text": [
      "P\n"
     ]
    }
   ],
   "source": [
    "print(text13[0])"
   ]
  },
  {
   "cell_type": "code",
   "execution_count": 51,
   "id": "f3469910-54f2-4ed5-9a96-3e34e31fa83f",
   "metadata": {
    "tags": []
   },
   "outputs": [
    {
     "ename": "NameError",
     "evalue": "name 'taxt13' is not defined",
     "output_type": "error",
     "traceback": [
      "\u001b[1;31m---------------------------------------------------------------------------\u001b[0m",
      "\u001b[1;31mNameError\u001b[0m                                 Traceback (most recent call last)",
      "Cell \u001b[1;32mIn[51], line 2\u001b[0m\n\u001b[0;32m      1\u001b[0m \u001b[38;5;66;03m# 인덱싱을 통해서 요소를 접근, 수정\u001b[39;00m\n\u001b[1;32m----> 2\u001b[0m taxt13[\u001b[38;5;241m0\u001b[39m] \u001b[38;5;241m=\u001b[39m \u001b[38;5;124m\"\u001b[39m\u001b[38;5;124mA\u001b[39m\u001b[38;5;124m\"\u001b[39m\n",
      "\u001b[1;31mNameError\u001b[0m: name 'taxt13' is not defined"
     ]
    }
   ],
   "source": [
    "# 인덱싱을 통해서 요소를 접근, 수정\n",
    "taxt13[0] = \"A\"\n",
    "# 하지만 불가"
   ]
  },
  {
   "cell_type": "code",
   "execution_count": 52,
   "id": "f562f309-e9e0-4fb7-b317-7f15bd85eecc",
   "metadata": {
    "tags": []
   },
   "outputs": [
    {
     "ename": "TypeError",
     "evalue": "'str' object does not support item assignment",
     "output_type": "error",
     "traceback": [
      "\u001b[1;31m---------------------------------------------------------------------------\u001b[0m",
      "\u001b[1;31mTypeError\u001b[0m                                 Traceback (most recent call last)",
      "Cell \u001b[1;32mIn[52], line 3\u001b[0m\n\u001b[0;32m      1\u001b[0m \u001b[38;5;66;03m# 슬라이싱을 통해서 요소를 변경하는 경우\u001b[39;00m\n\u001b[0;32m      2\u001b[0m \u001b[38;5;66;03m# 좌형의 요소 개수아 대입하려는 요소의 개수가 같아야 합니다.\u001b[39;00m\n\u001b[1;32m----> 3\u001b[0m text13[:\u001b[38;5;241m2\u001b[39m] \u001b[38;5;241m=\u001b[39m \u001b[38;5;124m\"\u001b[39m\u001b[38;5;124mAa\u001b[39m\u001b[38;5;124m\"\u001b[39m\n",
      "\u001b[1;31mTypeError\u001b[0m: 'str' object does not support item assignment"
     ]
    }
   ],
   "source": [
    "# 슬라이싱을 통해서 요소를 변경하는 경우\n",
    "# 좌형의 요소 개수아 대입하려는 요소의 개수가 같아야 합니다.\n",
    "text13[:2] = \"Aa\"\n",
    "\n",
    "# 문자열릐 경우는 불변하기 때문에 변경 불가"
   ]
  },
  {
   "cell_type": "code",
   "execution_count": 53,
   "id": "061afde8-890e-4f88-92ed-6e01b0ebc054",
   "metadata": {
    "tags": []
   },
   "outputs": [
    {
     "name": "stdout",
     "output_type": "stream",
     "text": [
      "Aathon\n"
     ]
    }
   ],
   "source": [
    "text14 = \"Aa\" + text13[2:]\n",
    "print(text14)"
   ]
  },
  {
   "cell_type": "code",
   "execution_count": 54,
   "id": "2ef78166-fa94-43f8-8cbb-d03eb8dd0dca",
   "metadata": {
    "tags": []
   },
   "outputs": [
    {
     "data": {
      "text/plain": [
       "6"
      ]
     },
     "execution_count": 54,
     "metadata": {},
     "output_type": "execute_result"
    }
   ],
   "source": [
    "# len함수는 소괄호 안에 입력한 str의 길이\n",
    "len(text14)"
   ]
  },
  {
   "cell_type": "code",
   "execution_count": null,
   "id": "c0af148d-8671-4f3b-8f91-21c7c389938a",
   "metadata": {},
   "outputs": [],
   "source": []
  }
 ],
 "metadata": {
  "kernelspec": {
   "display_name": "Python 3 (ipykernel)",
   "language": "python",
   "name": "python3"
  },
  "language_info": {
   "codemirror_mode": {
    "name": "ipython",
    "version": 3
   },
   "file_extension": ".py",
   "mimetype": "text/x-python",
   "name": "python",
   "nbconvert_exporter": "python",
   "pygments_lexer": "ipython3",
   "version": "3.11.5"
  }
 },
 "nbformat": 4,
 "nbformat_minor": 5
}
