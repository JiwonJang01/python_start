{
 "cells": [
  {
   "cell_type": "code",
   "execution_count": 1,
   "id": "8b9c0474-1ec6-4130-a7ef-2c476693ddfd",
   "metadata": {
    "tags": []
   },
   "outputs": [],
   "source": [
    "# set 자료형은 비시퀀스이기 때문에 순서가 없다.\n",
    "# 중괄호로 작성하는 것은 dictionary와 같다\n",
    "# 하지만 dictionary는 key:value의 쌍으로 이루어진데 반해\n",
    "# set은 key(value) 하나로만 구성을 합니다.\n",
    "#중복되는 요소의 값을 갖지 않는다.\n",
    "set_var = {\"key1\", \"key2\"}"
   ]
  },
  {
   "cell_type": "code",
   "execution_count": 3,
   "id": "fe6b0861-fa1e-4df9-ba6f-c97f126a2551",
   "metadata": {
    "tags": []
   },
   "outputs": [
    {
     "name": "stdout",
     "output_type": "stream",
     "text": [
      "<class 'set'>\n"
     ]
    }
   ],
   "source": [
    "print(type(set_var))"
   ]
  },
  {
   "cell_type": "code",
   "execution_count": 4,
   "id": "6bd8b031-b27a-465f-bf40-c0f475cfc6b1",
   "metadata": {
    "tags": []
   },
   "outputs": [
    {
     "name": "stdout",
     "output_type": "stream",
     "text": [
      "{'key1', 'key2'}\n"
     ]
    }
   ],
   "source": [
    "print(set_var)"
   ]
  },
  {
   "cell_type": "code",
   "execution_count": 5,
   "id": "2d15c743-af28-4a2a-95c2-ce9fdbf52888",
   "metadata": {
    "tags": []
   },
   "outputs": [
    {
     "name": "stdout",
     "output_type": "stream",
     "text": [
      "<class 'dict'>\n"
     ]
    }
   ],
   "source": [
    "# 한 세트는  set()함수로만 작성할 수 있다.\n",
    "var1 = {}\n",
    "print(type(var1))"
   ]
  },
  {
   "cell_type": "code",
   "execution_count": 6,
   "id": "f4557d42-2443-4e52-a569-e5b12b25cb47",
   "metadata": {
    "tags": []
   },
   "outputs": [],
   "source": [
    "var2 = set()"
   ]
  },
  {
   "cell_type": "code",
   "execution_count": 8,
   "id": "71712a0c-f817-4966-879e-96c101c299d0",
   "metadata": {
    "tags": []
   },
   "outputs": [
    {
     "name": "stdout",
     "output_type": "stream",
     "text": [
      "<class 'set'>\n"
     ]
    }
   ],
   "source": [
    "print(type(var2))"
   ]
  },
  {
   "cell_type": "code",
   "execution_count": 9,
   "id": "dac9c778-5b2f-440d-82c8-44b61859c897",
   "metadata": {
    "tags": []
   },
   "outputs": [
    {
     "name": "stdout",
     "output_type": "stream",
     "text": [
      "set()\n"
     ]
    }
   ],
   "source": [
    "# set자료형에 요소를 추가할 때는 add()메소드를 사용한다.\n",
    "print(var2)"
   ]
  },
  {
   "cell_type": "code",
   "execution_count": 10,
   "id": "31249ee9-1ebb-4cee-97d1-2ff6a1cad5f4",
   "metadata": {
    "tags": []
   },
   "outputs": [
    {
     "name": "stdout",
     "output_type": "stream",
     "text": [
      "{1}\n"
     ]
    }
   ],
   "source": [
    "var2.add(1)\n",
    "print(var2)"
   ]
  },
  {
   "cell_type": "code",
   "execution_count": 12,
   "id": "49b43239-4590-4751-a107-878b63e4553f",
   "metadata": {
    "tags": []
   },
   "outputs": [
    {
     "name": "stdout",
     "output_type": "stream",
     "text": [
      "{1}\n"
     ]
    }
   ],
   "source": [
    "var2.add(1)\n",
    "print(var2)"
   ]
  },
  {
   "cell_type": "code",
   "execution_count": 14,
   "id": "1e1136f9-b840-40e7-b8e1-bc9b6a3d4a33",
   "metadata": {
    "tags": []
   },
   "outputs": [
    {
     "name": "stdout",
     "output_type": "stream",
     "text": [
      "{1, 2}\n"
     ]
    }
   ],
   "source": [
    "var2.add(2)\n",
    "print(var2) # 중복되는 요소는 가질 수 없다"
   ]
  },
  {
   "cell_type": "code",
   "execution_count": 15,
   "id": "64f7d8db-f7a8-476a-9ff2-14dd453c87f0",
   "metadata": {
    "tags": []
   },
   "outputs": [],
   "source": [
    "# set자료형의 요소를 삭제할 때는 remove()메소드를 호출한다.\n",
    "var2.remove(2)"
   ]
  },
  {
   "cell_type": "code",
   "execution_count": 16,
   "id": "e8cbf09b-149f-4b89-9dfe-6b9be09f02db",
   "metadata": {
    "tags": []
   },
   "outputs": [
    {
     "name": "stdout",
     "output_type": "stream",
     "text": [
      "{1}\n"
     ]
    }
   ],
   "source": [
    "print(var2)"
   ]
  },
  {
   "cell_type": "code",
   "execution_count": 17,
   "id": "8bbb2ae6-cade-46f8-a00d-4580385f02b5",
   "metadata": {
    "tags": []
   },
   "outputs": [
    {
     "name": "stdout",
     "output_type": "stream",
     "text": [
      "{1, 2}\n"
     ]
    }
   ],
   "source": [
    "var2.add(2)\n",
    "print(var2)\n",
    "var2.discard(3) # discard메소드는 없는 값을 삭제하려고 해도 에러가 나지 않음"
   ]
  },
  {
   "cell_type": "code",
   "execution_count": 18,
   "id": "b09ba4e1-f45a-4b8e-b98c-42942bcfa432",
   "metadata": {
    "tags": []
   },
   "outputs": [
    {
     "name": "stdout",
     "output_type": "stream",
     "text": [
      "{0, 18, 3, 6, 9, 155, 12}\n"
     ]
    }
   ],
   "source": [
    "# set 생성\n",
    "set_var2 = {0, 3, 6, 9, 12, 155, 18}\n",
    "print(set_var2)"
   ]
  },
  {
   "cell_type": "code",
   "execution_count": 19,
   "id": "6780f916-1b90-4d18-b049-088a5a6f3046",
   "metadata": {
    "tags": []
   },
   "outputs": [
    {
     "name": "stdout",
     "output_type": "stream",
     "text": [
      "{18, 3, 6, 9, 155, 12}\n"
     ]
    }
   ],
   "source": [
    "# pop()메소드는 임의의 순서의 요소를 삭제\n",
    "set_var2.pop()\n",
    "print(set_var2)"
   ]
  },
  {
   "cell_type": "code",
   "execution_count": 20,
   "id": "09fd662c-003d-43df-bcac-bb7f6d2a03c2",
   "metadata": {
    "tags": []
   },
   "outputs": [
    {
     "name": "stdout",
     "output_type": "stream",
     "text": [
      "set()\n"
     ]
    }
   ],
   "source": [
    "set_var2.clear() # set자료형 내 요소 삭제\n",
    "print(set_var2)"
   ]
  },
  {
   "cell_type": "code",
   "execution_count": 22,
   "id": "f647e62c-3757-4b85-a40e-3c20ea0b476b",
   "metadata": {
    "tags": []
   },
   "outputs": [
    {
     "data": {
      "text/plain": [
       "0"
      ]
     },
     "execution_count": 22,
     "metadata": {},
     "output_type": "execute_result"
    }
   ],
   "source": [
    "len(set_var2) # 요소의 개수를 구할 때 내장 함수 사용"
   ]
  },
  {
   "cell_type": "code",
   "execution_count": 23,
   "id": "1f070ebc-1793-4147-9de3-03adaf3e6664",
   "metadata": {
    "tags": []
   },
   "outputs": [
    {
     "name": "stdout",
     "output_type": "stream",
     "text": [
      "{1, 2, 3, 4, 6}\n"
     ]
    }
   ],
   "source": [
    "# set 자료형의 합집합(union)\n",
    "a = {1, 2, 3, 4}\n",
    "b = {2, 4, 6}\n",
    "print(set.union(a, b))"
   ]
  },
  {
   "cell_type": "code",
   "execution_count": 24,
   "id": "7f22077a-50e3-4a47-b102-d09d2931722a",
   "metadata": {
    "tags": []
   },
   "outputs": [
    {
     "name": "stdout",
     "output_type": "stream",
     "text": [
      "{1, 2, 3, 4, 6}\n"
     ]
    }
   ],
   "source": [
    "print(a | b)"
   ]
  },
  {
   "cell_type": "code",
   "execution_count": 26,
   "id": "dc428a38-1a04-4141-a48f-9be7095db55b",
   "metadata": {
    "tags": []
   },
   "outputs": [
    {
     "name": "stdout",
     "output_type": "stream",
     "text": [
      "{2, 4}\n"
     ]
    }
   ],
   "source": [
    "# set자료형의 교집합(intersection)\n",
    "print(set.intersection(a & b))"
   ]
  },
  {
   "cell_type": "code",
   "execution_count": 27,
   "id": "4bb15dde-9b6e-48b9-af8b-b743b64def34",
   "metadata": {
    "tags": []
   },
   "outputs": [
    {
     "name": "stdout",
     "output_type": "stream",
     "text": [
      "{1, 3}\n"
     ]
    }
   ],
   "source": [
    "# set 자료형의 차집합(difference)\n",
    "print(set.difference(a - b))"
   ]
  },
  {
   "cell_type": "code",
   "execution_count": 28,
   "id": "853b8d80-c4af-4046-b935-29aa35f4cbb6",
   "metadata": {
    "tags": []
   },
   "outputs": [
    {
     "name": "stdout",
     "output_type": "stream",
     "text": [
      "None\n"
     ]
    }
   ],
   "source": [
    "print(a.update(b))"
   ]
  },
  {
   "cell_type": "code",
   "execution_count": 29,
   "id": "ed68d958-04ef-4c1d-aa58-2415e1387503",
   "metadata": {
    "tags": []
   },
   "outputs": [
    {
     "name": "stdout",
     "output_type": "stream",
     "text": [
      "{1, 2, 3, 4, 6}\n"
     ]
    }
   ],
   "source": [
    "print(a) # a라는 결과에 직접적인 결과의 대입이 이뤄진다"
   ]
  },
  {
   "cell_type": "code",
   "execution_count": 30,
   "id": "bee451f1-2c01-4862-84c9-18de1e9179e0",
   "metadata": {
    "tags": []
   },
   "outputs": [
    {
     "name": "stdout",
     "output_type": "stream",
     "text": [
      "{1, 2, 3, 4}\n"
     ]
    }
   ],
   "source": [
    "a = {1, 2, 3, 4}\n",
    "b = {2, 4, 5}\n",
    "print(a)"
   ]
  },
  {
   "cell_type": "code",
   "execution_count": 31,
   "id": "00579966-66bd-4da8-9949-15f89c7f8aba",
   "metadata": {
    "tags": []
   },
   "outputs": [
    {
     "name": "stdout",
     "output_type": "stream",
     "text": [
      "{1, 2, 3, 4, 5}\n"
     ]
    }
   ],
   "source": [
    "a |= b\n",
    "print(a)"
   ]
  },
  {
   "cell_type": "code",
   "execution_count": 34,
   "id": "6c10d20b-939b-4c56-9f33-d015df1f746e",
   "metadata": {
    "tags": []
   },
   "outputs": [],
   "source": [
    "a = {1, 2, 3, 4}\n",
    "b = {2, 4, 5}\n",
    "\n",
    "a.intersection_update(b)"
   ]
  },
  {
   "cell_type": "code",
   "execution_count": 35,
   "id": "400a1db7-8015-4be5-a763-cc222c3d6232",
   "metadata": {
    "tags": []
   },
   "outputs": [
    {
     "name": "stdout",
     "output_type": "stream",
     "text": [
      "{2, 4}\n"
     ]
    }
   ],
   "source": [
    "print(a)"
   ]
  },
  {
   "cell_type": "code",
   "execution_count": 36,
   "id": "a65f3c81-3f67-4201-8462-7a6e8798dcc6",
   "metadata": {
    "tags": []
   },
   "outputs": [
    {
     "name": "stdout",
     "output_type": "stream",
     "text": [
      "{2, 4}\n"
     ]
    }
   ],
   "source": [
    "a &= b\n",
    "print(a)"
   ]
  },
  {
   "cell_type": "code",
   "execution_count": 37,
   "id": "11b7d625-8ddf-4402-9bf3-159f7b070e46",
   "metadata": {
    "tags": []
   },
   "outputs": [
    {
     "name": "stdout",
     "output_type": "stream",
     "text": [
      "{1, 3}\n"
     ]
    }
   ],
   "source": [
    "a = {1, 2, 3, 4}\n",
    "b = {2, 4, 5}\n",
    "\n",
    "a.difference_update(b)\n",
    "print(a)"
   ]
  },
  {
   "cell_type": "code",
   "execution_count": 38,
   "id": "de6bb5cd-db9a-4bb4-b874-9939e4b5a54d",
   "metadata": {
    "tags": []
   },
   "outputs": [],
   "source": [
    "a -= b"
   ]
  },
  {
   "cell_type": "code",
   "execution_count": 39,
   "id": "698e03c7-47cc-48c7-808c-1e64c7081392",
   "metadata": {
    "tags": []
   },
   "outputs": [
    {
     "name": "stdout",
     "output_type": "stream",
     "text": [
      "{1, 3}\n"
     ]
    }
   ],
   "source": [
    "print(a)"
   ]
  },
  {
   "cell_type": "code",
   "execution_count": 40,
   "id": "8d0f1fcd-5851-4dc0-98de-4380a5742350",
   "metadata": {
    "tags": []
   },
   "outputs": [
    {
     "data": {
      "text/plain": [
       "True"
      ]
     },
     "execution_count": 40,
     "metadata": {},
     "output_type": "execute_result"
    }
   ],
   "source": [
    "a = {0, 1, 2}\n",
    "b = {0, 1, 2}\n",
    "a.issubset(b) # a가 b의 부분 집합인지"
   ]
  },
  {
   "cell_type": "code",
   "execution_count": 41,
   "id": "56590c2e-c101-4306-baf1-9ff62406b4c6",
   "metadata": {
    "tags": []
   },
   "outputs": [
    {
     "data": {
      "text/plain": [
       "True"
      ]
     },
     "execution_count": 41,
     "metadata": {},
     "output_type": "execute_result"
    }
   ],
   "source": [
    "b.issubset(a) # b가 a의 부분집합인지"
   ]
  },
  {
   "cell_type": "code",
   "execution_count": 42,
   "id": "0a40bb1b-2be4-4328-bfdb-ced900e4fa6f",
   "metadata": {
    "tags": []
   },
   "outputs": [
    {
     "data": {
      "text/plain": [
       "True"
      ]
     },
     "execution_count": 42,
     "metadata": {},
     "output_type": "execute_result"
    }
   ],
   "source": [
    "a = {0, 1}\n",
    "b = {0, 1, 2}\n",
    "a.issubset(b)"
   ]
  },
  {
   "cell_type": "code",
   "execution_count": 43,
   "id": "c7eb5411-78dc-4efa-b437-8ca96ee168cf",
   "metadata": {
    "tags": []
   },
   "outputs": [
    {
     "data": {
      "text/plain": [
       "False"
      ]
     },
     "execution_count": 43,
     "metadata": {},
     "output_type": "execute_result"
    }
   ],
   "source": [
    "b.issubset(a)"
   ]
  },
  {
   "cell_type": "code",
   "execution_count": 45,
   "id": "3744522b-175b-4ad5-beea-4a1ba2e91169",
   "metadata": {
    "tags": []
   },
   "outputs": [
    {
     "data": {
      "text/plain": [
       "False"
      ]
     },
     "execution_count": 45,
     "metadata": {},
     "output_type": "execute_result"
    }
   ],
   "source": [
    "a.issuperset(b) # a가 b의 상위집합인지"
   ]
  },
  {
   "cell_type": "code",
   "execution_count": 46,
   "id": "abd4d0b9-7a57-40b8-ad93-34a3a4f9f8a5",
   "metadata": {
    "tags": []
   },
   "outputs": [
    {
     "data": {
      "text/plain": [
       "True"
      ]
     },
     "execution_count": 46,
     "metadata": {},
     "output_type": "execute_result"
    }
   ],
   "source": [
    "b.issuperset(a) # b가 a의 상위집합인지"
   ]
  },
  {
   "cell_type": "code",
   "execution_count": 48,
   "id": "b3d6d783-a536-4177-9d00-f3907d096ca3",
   "metadata": {
    "tags": []
   },
   "outputs": [
    {
     "name": "stdout",
     "output_type": "stream",
     "text": [
      "True\n"
     ]
    }
   ],
   "source": [
    "a = {0, 1, 2}\n",
    "b = {0, 1, 2}\n",
    "print( a == b)"
   ]
  },
  {
   "cell_type": "code",
   "execution_count": 50,
   "id": "14ad2483-7b13-4813-9f53-398d0c1646b3",
   "metadata": {
    "tags": []
   },
   "outputs": [
    {
     "data": {
      "text/plain": [
       "True"
      ]
     },
     "execution_count": 50,
     "metadata": {},
     "output_type": "execute_result"
    }
   ],
   "source": [
    "a = {0, 1, 2}\n",
    "b = {3, 4, 5}\n",
    "a.isdisjoint(b) #두 set 자료형 간에 요소가 겹치치 않는가?"
   ]
  },
  {
   "cell_type": "code",
   "execution_count": 51,
   "id": "ae6c7241-a9bd-4389-b8c2-6813bf0e1364",
   "metadata": {
    "tags": []
   },
   "outputs": [
    {
     "data": {
      "text/plain": [
       "False"
      ]
     },
     "execution_count": 51,
     "metadata": {},
     "output_type": "execute_result"
    }
   ],
   "source": [
    "a = {0, 1, 2, 3}\n",
    "b = {3, 4, 5}\n",
    "a.isdisjoint(b)"
   ]
  },
  {
   "cell_type": "code",
   "execution_count": null,
   "id": "66654c70-3be4-4caf-a664-aafcadad69cf",
   "metadata": {},
   "outputs": [],
   "source": []
  }
 ],
 "metadata": {
  "kernelspec": {
   "display_name": "Python 3 (ipykernel)",
   "language": "python",
   "name": "python3"
  },
  "language_info": {
   "codemirror_mode": {
    "name": "ipython",
    "version": 3
   },
   "file_extension": ".py",
   "mimetype": "text/x-python",
   "name": "python",
   "nbconvert_exporter": "python",
   "pygments_lexer": "ipython3",
   "version": "3.11.5"
  }
 },
 "nbformat": 4,
 "nbformat_minor": 5
}
