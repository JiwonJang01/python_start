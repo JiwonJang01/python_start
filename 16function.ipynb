{
 "cells": [
  {
   "cell_type": "code",
   "execution_count": 1,
   "id": "18327d24-ef8f-4972-8e51-b9509194d95e",
   "metadata": {
    "tags": []
   },
   "outputs": [],
   "source": [
    "# 사칙연산을 하는 간단한 함수를 만들어보도록 하겠습니다.\n",
    "\n",
    "# 함수에 대한 정의 부분\n",
    "def add(a, b):\n",
    "    \"\"\"두 개의 숫자를 더해서 그 값을 반환합니다.\"\"\"\n",
    "    return a + b;\n",
    "\n",
    "def substract(a, b):\n",
    "    \"\"\" 두개의 숫자를 빼서 그 값을 반환합니다.\"\"\"\n",
    "    return a - b;\n",
    "\n",
    "def multiply(a, b):\n",
    "    \"\"\" 두 개의 숫자를 곱해서 그 값을 반환합니다. \"\"\"\n",
    "    return a * b;\n",
    "\n",
    "def divide(a, b):\n",
    "    \"\"\" 두 개의 숫자를 나눠서 그 값을 반환합니다. \"\"\"\n",
    "    return a / b;"
   ]
  },
  {
   "cell_type": "code",
   "execution_count": 2,
   "id": "b99b3252-2d4e-4a12-880b-00cc50bf601d",
   "metadata": {
    "tags": []
   },
   "outputs": [
    {
     "name": "stdout",
     "output_type": "stream",
     "text": [
      "8\n"
     ]
    }
   ],
   "source": [
    "# 함수의 호출\n",
    "# 함수의 이름: add, substract, multiply, divide\n",
    "add_result = add(5, 3)\n",
    "# add_result = 8 반환값으로 return 오른 편에 있는 값이 호출하는 부분에 대치가 됨\n",
    "print(add_result)"
   ]
  },
  {
   "cell_type": "code",
   "execution_count": 5,
   "id": "fbdea20a-dc5f-4cc6-8f09-9c03c1f9735f",
   "metadata": {
    "tags": []
   },
   "outputs": [
    {
     "name": "stdout",
     "output_type": "stream",
     "text": [
      "2\n"
     ]
    }
   ],
   "source": [
    "substract_result = substract(5, 3)\n",
    "print(substract_result)"
   ]
  },
  {
   "cell_type": "code",
   "execution_count": 6,
   "id": "d7758431-d960-4996-95a7-a62a3c8475aa",
   "metadata": {
    "tags": []
   },
   "outputs": [
    {
     "name": "stdout",
     "output_type": "stream",
     "text": [
      "15\n"
     ]
    }
   ],
   "source": [
    "multiply_result = multiply(a=5, b=3)\n",
    "print(multiply_result)"
   ]
  },
  {
   "cell_type": "code",
   "execution_count": 8,
   "id": "31703255-276d-4ce2-885c-d91b96780bc7",
   "metadata": {
    "tags": []
   },
   "outputs": [
    {
     "name": "stdout",
     "output_type": "stream",
     "text": [
      "1.6666666666666667\n"
     ]
    }
   ],
   "source": [
    "divide_result = divide(5, b=3) # positional과 keyword 방식을 섞어 쓸 경우에 전자를 더 앞에 작성해야한다.\n",
    "print(divide_result)"
   ]
  },
  {
   "cell_type": "code",
   "execution_count": 9,
   "id": "59f7dcb9-3878-4332-8165-877e0544e77c",
   "metadata": {
    "tags": []
   },
   "outputs": [
    {
     "name": "stdout",
     "output_type": "stream",
     "text": [
      "Help on function add in module __main__:\n",
      "\n",
      "add(a, b)\n",
      "    두 개의 숫자를 더해서 그 값을 반환합니다.\n",
      "\n"
     ]
    }
   ],
   "source": [
    "help(add)"
   ]
  },
  {
   "cell_type": "code",
   "execution_count": 10,
   "id": "e69a3e5b-d075-4935-8970-f4d67ea5c589",
   "metadata": {
    "tags": []
   },
   "outputs": [
    {
     "name": "stdout",
     "output_type": "stream",
     "text": [
      "Help on built-in function len in module builtins:\n",
      "\n",
      "len(obj, /)\n",
      "    Return the number of items in a container.\n",
      "\n"
     ]
    }
   ],
   "source": [
    "help(len)"
   ]
  },
  {
   "cell_type": "code",
   "execution_count": null,
   "id": "8a16d6ee-a87d-483e-9d7c-63eea2f4efa6",
   "metadata": {},
   "outputs": [],
   "source": []
  }
 ],
 "metadata": {
  "kernelspec": {
   "display_name": "Python 3 (ipykernel)",
   "language": "python",
   "name": "python3"
  },
  "language_info": {
   "codemirror_mode": {
    "name": "ipython",
    "version": 3
   },
   "file_extension": ".py",
   "mimetype": "text/x-python",
   "name": "python",
   "nbconvert_exporter": "python",
   "pygments_lexer": "ipython3",
   "version": "3.11.5"
  }
 },
 "nbformat": 4,
 "nbformat_minor": 5
}
