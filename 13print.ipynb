{
 "cells": [
  {
   "cell_type": "code",
   "execution_count": 1,
   "id": "cef1f2d9-15b3-4645-b255-e43476b65dfd",
   "metadata": {
    "tags": []
   },
   "outputs": [
    {
     "name": "stdout",
     "output_type": "stream",
     "text": [
      "hello world\n"
     ]
    }
   ],
   "source": [
    "# 화면 출력\n",
    "# print()라는 내장 함수를 활용 가능\n",
    "print(\"hello world\")"
   ]
  },
  {
   "cell_type": "code",
   "execution_count": 2,
   "id": "b82c84b9-66e6-4544-b32d-f2a1ec975417",
   "metadata": {
    "tags": []
   },
   "outputs": [
    {
     "name": "stdout",
     "output_type": "stream",
     "text": [
      "1 1.1 [1, 'rk', 1.3]\n"
     ]
    }
   ],
   "source": [
    "# sep라는 키워드가 기본값으로 공백을 가지고 있음\n",
    "print(1, 1.1, [1, \"rk\", 1.3], sep=\" \")"
   ]
  },
  {
   "cell_type": "code",
   "execution_count": 3,
   "id": "6d631170-61b7-4984-9185-2582e19f966b",
   "metadata": {
    "tags": []
   },
   "outputs": [
    {
     "name": "stdout",
     "output_type": "stream",
     "text": [
      "1 구분 1.1 구분 [1, 'rk', 1.3]\n"
     ]
    }
   ],
   "source": [
    "print(1, 1.1, [1, \"rk\", 1.3], sep=\" 구분 \")"
   ]
  },
  {
   "cell_type": "code",
   "execution_count": 6,
   "id": "5e0fa417-7c76-4484-8498-0d6569bfce69",
   "metadata": {
    "tags": []
   },
   "outputs": [
    {
     "name": "stdout",
     "output_type": "stream",
     "text": [
      "출력할 때 쓰는 print() 내장 함수는\n",
      "기본적으로 개형 문자를 마지막 문자로 사용을 합니다.\n"
     ]
    }
   ],
   "source": [
    "# end 라는 키워드가 기본값으로 \"\\n\"\n",
    "print(\"출력할 때 쓰는 print() 내장 함수는\", end=\"\\n\")\n",
    "print(\"기본적으로 개형 문자를 마지막 문자로 사용을 합니다.\")"
   ]
  },
  {
   "cell_type": "code",
   "execution_count": 7,
   "id": "737d5f43-3cb1-4fc7-9363-c937415fe692",
   "metadata": {
    "tags": []
   },
   "outputs": [
    {
     "name": "stdout",
     "output_type": "stream",
     "text": [
      "출력할 때 쓰는 print() 내장 함수는마지막에 추가되는 문자를 다른 값으로 병경했습니다.기본적으로 개형 문자를 마지막 문자로 사용을 합니다.\n"
     ]
    }
   ],
   "source": [
    "print(\"출력할 때 쓰는 print() 내장 함수는\", end=\"마지막에 추가되는 문자를 다른 값으로 병경했습니다.\")\n",
    "print(\"기본적으로 개형 문자를 마지막 문자로 사용을 합니다.\")"
   ]
  },
  {
   "cell_type": "code",
   "execution_count": null,
   "id": "93c8c727-6305-49e2-93a9-9bb4f5ce6c40",
   "metadata": {},
   "outputs": [],
   "source": []
  }
 ],
 "metadata": {
  "kernelspec": {
   "display_name": "Python 3 (ipykernel)",
   "language": "python",
   "name": "python3"
  },
  "language_info": {
   "codemirror_mode": {
    "name": "ipython",
    "version": 3
   },
   "file_extension": ".py",
   "mimetype": "text/x-python",
   "name": "python",
   "nbconvert_exporter": "python",
   "pygments_lexer": "ipython3",
   "version": "3.11.5"
  }
 },
 "nbformat": 4,
 "nbformat_minor": 5
}
