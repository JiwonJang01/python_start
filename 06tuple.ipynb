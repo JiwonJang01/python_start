{
 "cells": [
  {
   "cell_type": "code",
   "execution_count": 1,
   "id": "d5d60f4a-ca97-4cb7-9b3b-781c44a7ea45",
   "metadata": {
    "tags": []
   },
   "outputs": [],
   "source": [
    "# tuple: 시퀀스 자료형 중 하나로 불변\n",
    "# 변수 = (항목1, 항목2, ...)"
   ]
  },
  {
   "cell_type": "code",
   "execution_count": 2,
   "id": "3db80371-6b7a-4545-8355-05947b7fd489",
   "metadata": {
    "tags": []
   },
   "outputs": [],
   "source": [
    "x = (1, 2, 3, 4, 5, 6)"
   ]
  },
  {
   "cell_type": "code",
   "execution_count": 3,
   "id": "be0208a7-a8ff-4c26-b2a3-5c2d2a96933a",
   "metadata": {
    "tags": []
   },
   "outputs": [
    {
     "name": "stdout",
     "output_type": "stream",
     "text": [
      "(1, 2, 3, 4, 5, 6)\n"
     ]
    }
   ],
   "source": [
    "print(x)"
   ]
  },
  {
   "cell_type": "code",
   "execution_count": 4,
   "id": "d8222852-0c0a-44c3-ba39-0e4329ab0a6f",
   "metadata": {
    "tags": []
   },
   "outputs": [
    {
     "name": "stdout",
     "output_type": "stream",
     "text": [
      "<class 'tuple'>\n"
     ]
    }
   ],
   "source": [
    "print(type(x))"
   ]
  },
  {
   "cell_type": "code",
   "execution_count": 7,
   "id": "8d289568-43c5-47c2-838f-0c4672503569",
   "metadata": {
    "tags": []
   },
   "outputs": [],
   "source": [
    "x = ()"
   ]
  },
  {
   "cell_type": "code",
   "execution_count": 8,
   "id": "ae9814e8-e36a-4828-a60c-97ede719883e",
   "metadata": {
    "tags": []
   },
   "outputs": [
    {
     "data": {
      "text/plain": [
       "0"
      ]
     },
     "execution_count": 8,
     "metadata": {},
     "output_type": "execute_result"
    }
   ],
   "source": [
    "len(x)"
   ]
  },
  {
   "cell_type": "code",
   "execution_count": 9,
   "id": "4b6a0f05-6bae-49d5-95c0-44371b9ac1e1",
   "metadata": {
    "tags": []
   },
   "outputs": [
    {
     "name": "stdout",
     "output_type": "stream",
     "text": [
      "()\n"
     ]
    }
   ],
   "source": [
    "print(x)"
   ]
  },
  {
   "cell_type": "code",
   "execution_count": 10,
   "id": "8483b075-9209-40bd-828f-7f98ec1ecbfb",
   "metadata": {
    "tags": []
   },
   "outputs": [],
   "source": [
    "y = tuple()"
   ]
  },
  {
   "cell_type": "code",
   "execution_count": 11,
   "id": "c0328804-ea48-4b03-8a6a-bb2f0b4de938",
   "metadata": {
    "tags": []
   },
   "outputs": [
    {
     "name": "stdout",
     "output_type": "stream",
     "text": [
      "()\n"
     ]
    }
   ],
   "source": [
    "print(y)"
   ]
  },
  {
   "cell_type": "code",
   "execution_count": 12,
   "id": "6ada7c80-b469-40e9-93b1-ae91e5cf5aed",
   "metadata": {
    "tags": []
   },
   "outputs": [
    {
     "name": "stdout",
     "output_type": "stream",
     "text": [
      "<class 'tuple'>\n"
     ]
    }
   ],
   "source": [
    "print(type(y))"
   ]
  },
  {
   "cell_type": "code",
   "execution_count": 13,
   "id": "2bf63e4c-622c-4608-b826-de5d3ab045cc",
   "metadata": {
    "tags": []
   },
   "outputs": [
    {
     "data": {
      "text/plain": [
       "2"
      ]
     },
     "execution_count": 13,
     "metadata": {},
     "output_type": "execute_result"
    }
   ],
   "source": [
    "x1 = (1, 2, 3, 4, 5)\n",
    "x1[1]"
   ]
  },
  {
   "cell_type": "code",
   "execution_count": 14,
   "id": "96c9c418-b154-4f29-8c0a-ced4d9957896",
   "metadata": {
    "tags": []
   },
   "outputs": [
    {
     "ename": "TypeError",
     "evalue": "'tuple' object does not support item assignment",
     "output_type": "error",
     "traceback": [
      "\u001b[1;31m---------------------------------------------------------------------------\u001b[0m",
      "\u001b[1;31mTypeError\u001b[0m                                 Traceback (most recent call last)",
      "Cell \u001b[1;32mIn[14], line 1\u001b[0m\n\u001b[1;32m----> 1\u001b[0m x1[\u001b[38;5;241m1\u001b[39m] \u001b[38;5;241m=\u001b[39m \u001b[38;5;241m1\u001b[39m\n",
      "\u001b[1;31mTypeError\u001b[0m: 'tuple' object does not support item assignment"
     ]
    }
   ],
   "source": [
    "x1[1] = 1"
   ]
  },
  {
   "cell_type": "code",
   "execution_count": 15,
   "id": "580484b0-2f59-4061-a291-40a678c304dc",
   "metadata": {
    "tags": []
   },
   "outputs": [
    {
     "name": "stdout",
     "output_type": "stream",
     "text": [
      "(1, 2)\n"
     ]
    }
   ],
   "source": [
    "print(x1[:2])"
   ]
  },
  {
   "cell_type": "code",
   "execution_count": 16,
   "id": "296219c5-6a71-437d-af06-83e1b6237c13",
   "metadata": {
    "tags": []
   },
   "outputs": [
    {
     "ename": "TypeError",
     "evalue": "'tuple' object does not support item assignment",
     "output_type": "error",
     "traceback": [
      "\u001b[1;31m---------------------------------------------------------------------------\u001b[0m",
      "\u001b[1;31mTypeError\u001b[0m                                 Traceback (most recent call last)",
      "Cell \u001b[1;32mIn[16], line 1\u001b[0m\n\u001b[1;32m----> 1\u001b[0m x1[:\u001b[38;5;241m2\u001b[39m] \u001b[38;5;241m=\u001b[39m (\u001b[38;5;241m5\u001b[39m, \u001b[38;5;241m6\u001b[39m)\n",
      "\u001b[1;31mTypeError\u001b[0m: 'tuple' object does not support item assignment"
     ]
    }
   ],
   "source": [
    "x1[:2] = (5, 6)"
   ]
  },
  {
   "cell_type": "code",
   "execution_count": 17,
   "id": "76a8d4e6-72ac-4c3e-9dff-0765c40c688a",
   "metadata": {
    "tags": []
   },
   "outputs": [
    {
     "name": "stdout",
     "output_type": "stream",
     "text": [
      "2\n"
     ]
    }
   ],
   "source": [
    "print(x1[1])"
   ]
  },
  {
   "cell_type": "code",
   "execution_count": 18,
   "id": "ad3dd1cb-5dc6-4c80-ae8e-5683251c4729",
   "metadata": {
    "tags": []
   },
   "outputs": [
    {
     "ename": "TypeError",
     "evalue": "'tuple' object doesn't support item deletion",
     "output_type": "error",
     "traceback": [
      "\u001b[1;31m---------------------------------------------------------------------------\u001b[0m",
      "\u001b[1;31mTypeError\u001b[0m                                 Traceback (most recent call last)",
      "Cell \u001b[1;32mIn[18], line 1\u001b[0m\n\u001b[1;32m----> 1\u001b[0m \u001b[38;5;28;01mdel\u001b[39;00m x1[\u001b[38;5;241m1\u001b[39m]\n",
      "\u001b[1;31mTypeError\u001b[0m: 'tuple' object doesn't support item deletion"
     ]
    }
   ],
   "source": [
    "del x1[1]"
   ]
  },
  {
   "cell_type": "code",
   "execution_count": 19,
   "id": "fb2fa79d-69b2-4801-9190-facbe5ff2038",
   "metadata": {
    "tags": []
   },
   "outputs": [
    {
     "name": "stdout",
     "output_type": "stream",
     "text": [
      "<class 'tuple'>\n"
     ]
    }
   ],
   "source": [
    "# 튜플 소괄호 생략 가능\n",
    "x2 = \"음\", \"오\", \"이\", \"예\"\n",
    "print(type(x2))"
   ]
  },
  {
   "cell_type": "code",
   "execution_count": 21,
   "id": "b81e6130-62b2-4e5e-8f19-f8ff8d9e35b3",
   "metadata": {
    "tags": []
   },
   "outputs": [],
   "source": [
    "# 리스트는 크기가 바뀔 수 있어서 초과할달 고려가 필요\n",
    "# 빠르게 생성하고 메모리 부담이 적지만 수정불가인 튜플"
   ]
  }
 ],
 "metadata": {
  "kernelspec": {
   "display_name": "Python 3 (ipykernel)",
   "language": "python",
   "name": "python3"
  },
  "language_info": {
   "codemirror_mode": {
    "name": "ipython",
    "version": 3
   },
   "file_extension": ".py",
   "mimetype": "text/x-python",
   "name": "python",
   "nbconvert_exporter": "python",
   "pygments_lexer": "ipython3",
   "version": "3.11.5"
  }
 },
 "nbformat": 4,
 "nbformat_minor": 5
}
