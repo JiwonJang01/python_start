{
 "cells": [
  {
   "cell_type": "code",
   "execution_count": 1,
   "id": "d155e42d-6d16-4e24-af16-19eb7b93f97c",
   "metadata": {
    "tags": []
   },
   "outputs": [
    {
     "name": "stdout",
     "output_type": "stream",
     "text": [
      "Hello World\n",
      "Hello World\n",
      "Hello World\n",
      "Hello World\n",
      "Hello World\n",
      "Hello World\n",
      "Hello World\n",
      "Hello World\n",
      "Hello World\n",
      "Hello World\n"
     ]
    }
   ],
   "source": [
    "# while문\n",
    "# 반복문\n",
    "# for문이 요소가 있을 때 하나씩 꺼내서 하나 꺼낼 때마다 코드블록을 반복\n",
    "# whilea문은 우측에 위치하는 조건문이 True일 때 코드블록을 실행하고 다시 조건문으로 돌아와 조건문이 True라면 코드블럭을 실행\n",
    "# 조건문의 최종 값이 False라면 while문을 빠져나갑니다. \n",
    "\n",
    "i = 0 #초기값\n",
    "\n",
    "while i < 10: #조건식\n",
    "    print(\"Hello World\")\n",
    "    i += 1 # 증감식"
   ]
  },
  {
   "cell_type": "code",
   "execution_count": 3,
   "id": "06ed7b82-5d92-4699-9c1c-d988f283114d",
   "metadata": {
    "tags": []
   },
   "outputs": [
    {
     "name": "stdout",
     "output_type": "stream",
     "text": [
      "98\n",
      "89\n",
      "20\n"
     ]
    }
   ],
   "source": [
    "scores = [98, 89, 20]\n",
    "\n",
    "idx = 0\n",
    "while idx < len(scores): #3\n",
    "    print(scores[idx])\n",
    "    idx += 1"
   ]
  },
  {
   "cell_type": "code",
   "execution_count": 5,
   "id": "888c102b-ce14-45b6-99d4-288d178ae587",
   "metadata": {
    "tags": []
   },
   "outputs": [
    {
     "name": "stdout",
     "output_type": "stream",
     "text": [
      "98\n",
      "89\n"
     ]
    }
   ],
   "source": [
    "# break는 반복문에서 break 만나게 되면 제일 가까이에 있는 반복문을 빠져나갑니다.\n",
    "\n",
    "scores = [98, 89, 28]\n",
    "\n",
    "idx = 0\n",
    "while idx < len(scores):\n",
    "    print(scores[idx])\n",
    "    if scores[idx] < 90:\n",
    "        break\n",
    "    idx += 1"
   ]
  },
  {
   "cell_type": "code",
   "execution_count": 6,
   "id": "7e213061-1507-42e5-ade9-bd675b9d3e11",
   "metadata": {},
   "outputs": [
    {
     "name": "stdout",
     "output_type": "stream",
     "text": [
      "1\n",
      "3\n",
      "5\n",
      "7\n",
      "9\n",
      "11\n",
      "13\n",
      "15\n",
      "17\n",
      "19\n",
      "21\n",
      "23\n",
      "25\n",
      "27\n",
      "29\n",
      "31\n",
      "33\n",
      "35\n",
      "37\n",
      "39\n",
      "41\n",
      "43\n",
      "45\n",
      "47\n",
      "49\n",
      "51\n",
      "53\n",
      "55\n",
      "57\n",
      "59\n",
      "61\n",
      "63\n",
      "65\n",
      "67\n",
      "69\n",
      "71\n",
      "73\n",
      "75\n",
      "77\n",
      "79\n",
      "81\n",
      "83\n",
      "85\n",
      "87\n",
      "89\n",
      "91\n",
      "93\n",
      "95\n",
      "97\n",
      "99\n"
     ]
    }
   ],
   "source": [
    "# continue는 반복문에서 만나게 되었을 때 while문에서는 조건식으로 이동하게 됩니다.\n",
    "# for문에서는 iterable(한번에 하나씩 요소를 꺼낼 수 있는 객체) 안에 남아있는 요소가 있는지 체크하는 곳으로 이동하게 됩니다.\n",
    "\n",
    "i = 0\n",
    "while i < 100:\n",
    "    i += 1\n",
    "    if i % 2 == 0: # 2의 배수\n",
    "        continue\n",
    "    print(i)"
   ]
  },
  {
   "cell_type": "code",
   "execution_count": null,
   "id": "f4bf12fc-e116-482a-a70b-cacda0689e5d",
   "metadata": {},
   "outputs": [],
   "source": []
  }
 ],
 "metadata": {
  "kernelspec": {
   "display_name": "Python 3 (ipykernel)",
   "language": "python",
   "name": "python3"
  },
  "language_info": {
   "codemirror_mode": {
    "name": "ipython",
    "version": 3
   },
   "file_extension": ".py",
   "mimetype": "text/x-python",
   "name": "python",
   "nbconvert_exporter": "python",
   "pygments_lexer": "ipython3",
   "version": "3.11.5"
  }
 },
 "nbformat": 4,
 "nbformat_minor": 5
}
