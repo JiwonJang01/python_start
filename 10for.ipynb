{
 "cells": [
  {
   "cell_type": "code",
   "execution_count": 1,
   "id": "efcc9930-a796-456c-9e4d-8c49bf8a86f7",
   "metadata": {},
   "outputs": [],
   "source": [
    "# for문\n",
    "# 반복문\n",
    "# 코드 블록을 요소의 개수만큼 반복 실행\n",
    "\n",
    "#만약 Hello World라는 문자열을 1,000번 출력한다면 코드를 어떻게 작성할 것인가?\n"
   ]
  },
  {
   "cell_type": "code",
   "execution_count": 2,
   "id": "bd92064e-e565-4619-b12d-dc2513e99b8c",
   "metadata": {
    "tags": []
   },
   "outputs": [
    {
     "data": {
      "text/plain": [
       "range(0, 1000)"
      ]
     },
     "execution_count": 2,
     "metadata": {},
     "output_type": "execute_result"
    }
   ],
   "source": [
    "range(1000) # 0부터 1씩 증가하는 정수를 10000미만일때까지 만들어줍니다.\n",
    "# 즉 , 이 range(숫자)는 숫자만큼 요소를 만들어줍니다."
   ]
  },
  {
   "cell_type": "code",
   "execution_count": 3,
   "id": "e9eb9998-7d97-4dba-8c40-8e91fe53fa34",
   "metadata": {
    "tags": []
   },
   "outputs": [
    {
     "name": "stdout",
     "output_type": "stream",
     "text": [
      "Hello World\n",
      "Hello World\n",
      "Hello World\n",
      "Hello World\n",
      "Hello World\n",
      "Hello World\n",
      "Hello World\n",
      "Hello World\n",
      "Hello World\n",
      "Hello World\n"
     ]
    }
   ],
   "source": [
    "for variable in range(10): #variable은 0부터 999까지 숫자를 차례로 받아옵니다.\n",
    "    print(\"Hello World\")"
   ]
  },
  {
   "cell_type": "code",
   "execution_count": 5,
   "id": "6a5d5b97-019e-4d2e-9284-ee7241f73b50",
   "metadata": {
    "tags": []
   },
   "outputs": [],
   "source": [
    "# range() 내장함수로 리스트 만들기\n",
    "# range(시작 = 0, 끝, 증감 = 1)\n",
    "# range(1000) -> 0부터 1씩 증가하는 정수를 만든다. 끝 숫자보다 미만일 경우까지만 동작\n",
    "\n",
    "# 2부터 100미만의 2씩 증가하는 숫자\n",
    "even_numbers = list(range(2, 100, 2))"
   ]
  },
  {
   "cell_type": "code",
   "execution_count": 6,
   "id": "54c3f303-77eb-42c2-a6ce-0c6a8e017696",
   "metadata": {
    "tags": []
   },
   "outputs": [
    {
     "name": "stdout",
     "output_type": "stream",
     "text": [
      "[2, 4, 6, 8, 10, 12, 14, 16, 18, 20, 22, 24, 26, 28, 30, 32, 34, 36, 38, 40, 42, 44, 46, 48, 50, 52, 54, 56, 58, 60, 62, 64, 66, 68, 70, 72, 74, 76, 78, 80, 82, 84, 86, 88, 90, 92, 94, 96, 98]\n"
     ]
    }
   ],
   "source": [
    "print(even_numbers)"
   ]
  },
  {
   "cell_type": "code",
   "execution_count": 7,
   "id": "8732377e-2ae4-4ec4-a704-2b26f94b4906",
   "metadata": {
    "tags": []
   },
   "outputs": [
    {
     "name": "stdout",
     "output_type": "stream",
     "text": [
      "값은1입니다.\n",
      "값은2입니다.\n",
      "값은3입니다.\n",
      "값은4입니다.\n",
      "값은5입니다.\n",
      "값은6입니다.\n",
      "값은7입니다.\n",
      "값은8입니다.\n",
      "값은9입니다.\n"
     ]
    }
   ],
   "source": [
    "# iterable: 한번에 하나씩 요소를 순차적으로 꺼내올 수 있는 객체\n",
    "# str, list, tuple, range\n",
    "for n in [1, 2, 3, 4, 5, 6, 7, 8, 9]:\n",
    "    print(\"값은\" + str(n) + \"입니다.\")"
   ]
  },
  {
   "cell_type": "code",
   "execution_count": 8,
   "id": "bcf0b3e4-1f68-4668-9e4d-87644755bc18",
   "metadata": {
    "tags": []
   },
   "outputs": [
    {
     "name": "stdout",
     "output_type": "stream",
     "text": [
      "h\n",
      "e\n",
      "l\n",
      "l\n",
      "o\n",
      " \n",
      "w\n",
      "o\n",
      "r\n",
      "l\n",
      "d\n"
     ]
    }
   ],
   "source": [
    "for n in 'hello world':\n",
    "    print(n)"
   ]
  },
  {
   "cell_type": "code",
   "execution_count": 10,
   "id": "ce91c332-ed20-4cb3-b11a-d78c0bc82e7b",
   "metadata": {
    "tags": []
   },
   "outputs": [
    {
     "name": "stdout",
     "output_type": "stream",
     "text": [
      "d\n",
      "l\n",
      "r\n",
      "o\n",
      "w\n",
      " \n",
      "o\n",
      "l\n",
      "l\n",
      "e\n",
      "h\n"
     ]
    }
   ],
   "source": [
    "for n in reversed('hello world'):\n",
    "    print(n)"
   ]
  },
  {
   "cell_type": "code",
   "execution_count": 11,
   "id": "fe9681c6-8663-4ee9-8221-91a45e04d001",
   "metadata": {
    "tags": []
   },
   "outputs": [
    {
     "name": "stdout",
     "output_type": "stream",
     "text": [
      "가\n",
      "나\n",
      "다\n",
      "라\n"
     ]
    }
   ],
   "source": [
    "# 시퀀스 자료형에 인덱스를 구해서 그 인덱스로 반복하면서 인덱싱을 하는 예제\n",
    "example_list = [\"가\", \"나\", \"다\", \"라\"]\n",
    "#                0  ,  1 ,  2   ,  3\n",
    "# len(example_list) => 4\n",
    "\n",
    "# range(4) => 0, 1, 2, 3\n",
    "\n",
    "for idx in range(len(example_list)):\n",
    "    print(example_list[idx])"
   ]
  },
  {
   "cell_type": "code",
   "execution_count": null,
   "id": "60599cc1-81c0-401a-8a8a-2799cfdea56d",
   "metadata": {},
   "outputs": [],
   "source": []
  }
 ],
 "metadata": {
  "kernelspec": {
   "display_name": "Python 3 (ipykernel)",
   "language": "python",
   "name": "python3"
  },
  "language_info": {
   "codemirror_mode": {
    "name": "ipython",
    "version": 3
   },
   "file_extension": ".py",
   "mimetype": "text/x-python",
   "name": "python",
   "nbconvert_exporter": "python",
   "pygments_lexer": "ipython3",
   "version": "3.11.5"
  }
 },
 "nbformat": 4,
 "nbformat_minor": 5
}
