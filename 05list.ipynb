{
 "cells": [
  {
   "cell_type": "code",
   "execution_count": 1,
   "id": "ebc2b7a8-2fda-41b3-bbee-b7248d80da63",
   "metadata": {
    "tags": []
   },
   "outputs": [],
   "source": [
    "# list : 시퀀스 자료형 중 하나, 가변의 특성\n",
    "x = []"
   ]
  },
  {
   "cell_type": "code",
   "execution_count": 2,
   "id": "ab5f88be-95c6-406a-98be-630a70c9b4de",
   "metadata": {
    "tags": []
   },
   "outputs": [
    {
     "data": {
      "text/plain": [
       "list"
      ]
     },
     "execution_count": 2,
     "metadata": {},
     "output_type": "execute_result"
    }
   ],
   "source": [
    "type(x)"
   ]
  },
  {
   "cell_type": "code",
   "execution_count": 3,
   "id": "58d0c839-adbd-43f3-9774-20b048513744",
   "metadata": {
    "tags": []
   },
   "outputs": [
    {
     "data": {
      "text/plain": [
       "0"
      ]
     },
     "execution_count": 3,
     "metadata": {},
     "output_type": "execute_result"
    }
   ],
   "source": [
    "len(x)"
   ]
  },
  {
   "cell_type": "code",
   "execution_count": 19,
   "id": "ee2a85b3-401b-4676-b193-52e061ce0fb0",
   "metadata": {
    "tags": []
   },
   "outputs": [],
   "source": [
    "squares = [1**2, 2**2, 3**2]"
   ]
  },
  {
   "cell_type": "code",
   "execution_count": 6,
   "id": "675ceac6-f13e-416e-9fe4-1468200931c9",
   "metadata": {
    "tags": []
   },
   "outputs": [
    {
     "name": "stdout",
     "output_type": "stream",
     "text": [
      "[1, 4, 9]\n"
     ]
    }
   ],
   "source": [
    "print(squares)"
   ]
  },
  {
   "cell_type": "code",
   "execution_count": 7,
   "id": "6b8639ec-fb65-4611-a5e8-108bfaebb13d",
   "metadata": {
    "tags": []
   },
   "outputs": [
    {
     "name": "stdout",
     "output_type": "stream",
     "text": [
      "<class 'list'>\n"
     ]
    }
   ],
   "source": [
    "print(type(squares))"
   ]
  },
  {
   "cell_type": "code",
   "execution_count": 8,
   "id": "1f29501d-9cbd-4418-96b0-65836192bef7",
   "metadata": {
    "tags": []
   },
   "outputs": [
    {
     "name": "stdout",
     "output_type": "stream",
     "text": [
      "3\n"
     ]
    }
   ],
   "source": [
    "print(len(squares))"
   ]
  },
  {
   "cell_type": "code",
   "execution_count": 9,
   "id": "a1d47a64-d9c9-40f9-a1a5-c1e223f20bf5",
   "metadata": {
    "tags": []
   },
   "outputs": [
    {
     "name": "stdout",
     "output_type": "stream",
     "text": [
      "1\n"
     ]
    }
   ],
   "source": [
    "# 리스트도 인덱싱과 슬라이싱이 가능함\n",
    "# 인덱싱을 통해 해당하는 항목(item)을 반환\n",
    "print(squares[0])"
   ]
  },
  {
   "cell_type": "code",
   "execution_count": 10,
   "id": "beccd403-3a80-4ac5-b252-4b3df9e2d302",
   "metadata": {
    "tags": []
   },
   "outputs": [
    {
     "name": "stdout",
     "output_type": "stream",
     "text": [
      "9\n"
     ]
    }
   ],
   "source": [
    "print(squares[-1])"
   ]
  },
  {
   "cell_type": "code",
   "execution_count": 11,
   "id": "2e147188-e4c6-4078-ad88-1d2ed753b673",
   "metadata": {
    "tags": []
   },
   "outputs": [
    {
     "name": "stdout",
     "output_type": "stream",
     "text": [
      "[4, 9]\n"
     ]
    }
   ],
   "source": [
    "# 슬라이싱을 통해 해당하는 항목(item)을 반환받을 수 있다\n",
    "print(squares[1:])"
   ]
  },
  {
   "cell_type": "code",
   "execution_count": 12,
   "id": "0c20239b-c457-4459-a69a-c0d389067bd2",
   "metadata": {
    "tags": []
   },
   "outputs": [
    {
     "name": "stdout",
     "output_type": "stream",
     "text": [
      "[1, 4, 9]\n"
     ]
    }
   ],
   "source": [
    "print(squares)"
   ]
  },
  {
   "cell_type": "code",
   "execution_count": 13,
   "id": "45f4d256-a7e8-4583-9dbb-cc66be3e5c50",
   "metadata": {
    "tags": []
   },
   "outputs": [
    {
     "name": "stdout",
     "output_type": "stream",
     "text": [
      "[1, 4, 9, 16, 25, 36]\n"
     ]
    }
   ],
   "source": [
    "# list의 덧셈\n",
    "print(squares + [4**2, 5**2, 6**2])"
   ]
  },
  {
   "cell_type": "code",
   "execution_count": 14,
   "id": "b62b57e3-6f38-4dd9-8cda-959bba1e4852",
   "metadata": {
    "tags": []
   },
   "outputs": [
    {
     "name": "stdout",
     "output_type": "stream",
     "text": [
      "[1, 4, 9]\n"
     ]
    }
   ],
   "source": [
    "print(squares)"
   ]
  },
  {
   "cell_type": "code",
   "execution_count": 15,
   "id": "55232401-ceda-4dfe-bf39-80baffd79644",
   "metadata": {
    "tags": []
   },
   "outputs": [
    {
     "name": "stdout",
     "output_type": "stream",
     "text": [
      "[1, 4, 9, 1, 4, 9, 1, 4, 9]\n"
     ]
    }
   ],
   "source": [
    "# list의 곱셈\n",
    "print(squares * 3)"
   ]
  },
  {
   "cell_type": "code",
   "execution_count": 17,
   "id": "975904f6-3d1e-4fb2-8a89-d450461bb05c",
   "metadata": {
    "tags": []
   },
   "outputs": [],
   "source": [
    "squares = squares * 3"
   ]
  },
  {
   "cell_type": "code",
   "execution_count": 18,
   "id": "25dfdb82-77b1-4255-b15e-88f9299733fa",
   "metadata": {
    "tags": []
   },
   "outputs": [
    {
     "name": "stdout",
     "output_type": "stream",
     "text": [
      "[1, 4, 9, 1, 4, 9, 1, 4, 9]\n"
     ]
    }
   ],
   "source": [
    "print(squares)"
   ]
  },
  {
   "cell_type": "code",
   "execution_count": 20,
   "id": "e1da0c66-93dd-48ac-8c12-2b1a45d98c1f",
   "metadata": {
    "tags": []
   },
   "outputs": [
    {
     "name": "stdout",
     "output_type": "stream",
     "text": [
      "[1, 4, 9, 1, 4, 9, 1, 4, 9]\n"
     ]
    }
   ],
   "source": [
    "squares *= 3\n",
    "print(squares)"
   ]
  },
  {
   "cell_type": "code",
   "execution_count": 21,
   "id": "82ce6288-9880-4394-be4d-fafbd3bf84ed",
   "metadata": {
    "tags": []
   },
   "outputs": [
    {
     "name": "stdout",
     "output_type": "stream",
     "text": [
      "[1, 8, 27, 64, 125]\n"
     ]
    }
   ],
   "source": [
    "# list의 값을 변경하기\n",
    "# 인덱싱을 통해서 값을 변경\n",
    "\n",
    "cubes = [1, 8, 27, 65, 125] # 65가 잘못된 값, 64로변경\n",
    "cubes[3] = 4**3 # 인덱싱을 통해 요소의 값 변경\n",
    "print(cubes)"
   ]
  },
  {
   "cell_type": "code",
   "execution_count": 22,
   "id": "de90d53d-faa7-491f-80f7-664cb70b1993",
   "metadata": {
    "tags": []
   },
   "outputs": [
    {
     "name": "stdout",
     "output_type": "stream",
     "text": [
      "['a', 'b', 'e']\n"
     ]
    }
   ],
   "source": [
    "# 슬라이싱을 통해 여러개의 요소 변경\n",
    "letters = ['c','b','e'] # ['a', 'b', 'e']\n",
    "letters[:2] = ['a', 'b'] #슬라이싱을 통한 요소 변경\n",
    "                        #(요소의 개수가 서로 같아야함\n",
    "print(letters)"
   ]
  },
  {
   "cell_type": "code",
   "execution_count": 23,
   "id": "88f21019-928e-4942-aeca-92786a964b2e",
   "metadata": {
    "tags": []
   },
   "outputs": [
    {
     "name": "stdout",
     "output_type": "stream",
     "text": [
      "3\n"
     ]
    }
   ],
   "source": [
    "# list요소의 개수를 구하기\n",
    "print(len(letters))"
   ]
  },
  {
   "cell_type": "code",
   "execution_count": 24,
   "id": "e080e63c-0e70-451d-ab19-2fceb17fc8f9",
   "metadata": {
    "tags": []
   },
   "outputs": [
    {
     "name": "stdout",
     "output_type": "stream",
     "text": [
      "['a', 'b', 'c']\n",
      "[3, 2, 3]\n",
      "[['a', 'b', 'c'], [3, 2, 3]]\n"
     ]
    }
   ],
   "source": [
    "# list 안에 list 만들기\n",
    "a = ['a', 'b', 'c']\n",
    "b = [3, 2, 3]\n",
    "c = [a, b]\n",
    "\n",
    "print(a)\n",
    "print(b)\n",
    "print(c)"
   ]
  },
  {
   "cell_type": "code",
   "execution_count": 25,
   "id": "6baaa396-6a04-41ab-9c1e-19bcea82e7c2",
   "metadata": {
    "tags": []
   },
   "outputs": [
    {
     "name": "stdout",
     "output_type": "stream",
     "text": [
      "['a', 'b', 'c']\n"
     ]
    }
   ],
   "source": [
    "# 중첩된 list의 인덱싱\n",
    "print(c[0])"
   ]
  },
  {
   "cell_type": "code",
   "execution_count": 26,
   "id": "abc1b799-302b-47cc-8984-27daf73ff94f",
   "metadata": {
    "tags": []
   },
   "outputs": [
    {
     "name": "stdout",
     "output_type": "stream",
     "text": [
      "a\n"
     ]
    }
   ],
   "source": [
    "c[0] # ['a', 'b', 'c']\n",
    "print(c[0][0])"
   ]
  },
  {
   "cell_type": "code",
   "execution_count": 27,
   "id": "e10c3b56-91d2-44c6-a4eb-7f9f4cde2859",
   "metadata": {
    "tags": []
   },
   "outputs": [
    {
     "data": {
      "text/plain": [
       "2"
      ]
     },
     "execution_count": 27,
     "metadata": {},
     "output_type": "execute_result"
    }
   ],
   "source": [
    "c[1][1]"
   ]
  },
  {
   "cell_type": "code",
   "execution_count": 39,
   "id": "ae1ad6d5-b787-4ba8-8f51-4761b1b198c7",
   "metadata": {
    "tags": []
   },
   "outputs": [
    {
     "name": "stdout",
     "output_type": "stream",
     "text": [
      "True\n"
     ]
    }
   ],
   "source": [
    "# list 안에 포함되어 있는지 여부를 확인하는 방법으로 in이라는 키워드를 사용\n",
    "numbers = [1, 2, 3, 4, 5, 6, 7]\n",
    "print(3 in numbers)"
   ]
  },
  {
   "cell_type": "code",
   "execution_count": 40,
   "id": "b3b0ad75-2887-41bb-a77c-f956e5165963",
   "metadata": {
    "tags": []
   },
   "outputs": [
    {
     "name": "stdout",
     "output_type": "stream",
     "text": [
      "False\n"
     ]
    }
   ],
   "source": [
    "print(10 in numbers)"
   ]
  },
  {
   "cell_type": "code",
   "execution_count": 41,
   "id": "87ddb50c-321b-4c8f-bab8-1f6af8f8a0bc",
   "metadata": {
    "tags": []
   },
   "outputs": [
    {
     "name": "stdout",
     "output_type": "stream",
     "text": [
      "[1, 2, 3, 4, 5, 6, 7]\n",
      "[1, 2, 3, 4, 5, 6, 7, 10]\n"
     ]
    }
   ],
   "source": [
    "# 리스트변수.append(추가하고 싶은 요소)\n",
    "print(numbers)\n",
    "numbers.append(10)\n",
    "print(numbers)"
   ]
  },
  {
   "cell_type": "code",
   "execution_count": 42,
   "id": "e1768566-9a36-4b97-bbe5-b46bdb69ee15",
   "metadata": {
    "tags": []
   },
   "outputs": [
    {
     "name": "stdout",
     "output_type": "stream",
     "text": [
      "[0, 1, 2, 3, 4, 5, 6, 7, 10]\n"
     ]
    }
   ],
   "source": [
    "# 원하는 위치에 리스트 요소 insert로 추가하기\n",
    "numbers.insert(0,0) # 0번째 인덱스에 0 추가\n",
    "print(numbers)"
   ]
  },
  {
   "cell_type": "code",
   "execution_count": 43,
   "id": "8a01db84-db83-4d58-ae35-c4d48f53a8aa",
   "metadata": {
    "tags": []
   },
   "outputs": [
    {
     "name": "stdout",
     "output_type": "stream",
     "text": [
      "[0, 1, 2, 3, 4, 5, 0, 6, 7, 10]\n"
     ]
    }
   ],
   "source": [
    "numbers.insert(6, 0)\n",
    "print(numbers)"
   ]
  },
  {
   "cell_type": "code",
   "execution_count": 44,
   "id": "0a0765a8-09a3-477b-bfc7-eeef95ee3cf0",
   "metadata": {
    "tags": []
   },
   "outputs": [
    {
     "name": "stdout",
     "output_type": "stream",
     "text": [
      "10\n"
     ]
    }
   ],
   "source": [
    "print(len(numbers))"
   ]
  },
  {
   "cell_type": "code",
   "execution_count": 45,
   "id": "a7a5eb42-28ee-412d-862d-8f9ec4022216",
   "metadata": {
    "tags": []
   },
   "outputs": [
    {
     "name": "stdout",
     "output_type": "stream",
     "text": [
      "[0, 1, 2, 3, 4, 5, 0, 6, 7, 10, 0]\n"
     ]
    }
   ],
   "source": [
    "numbers.insert(len(numbers), 0)\n",
    "# len을 쓰면 맨마지막 위치\n",
    "print(numbers)"
   ]
  },
  {
   "cell_type": "code",
   "execution_count": 46,
   "id": "f96e74b4-9aa9-4bde-b05a-897b28817b42",
   "metadata": {
    "tags": []
   },
   "outputs": [
    {
     "name": "stdout",
     "output_type": "stream",
     "text": [
      "[0, 1, 2, 3, 4, 5, 0, 6, 7, 10, 0, 9, 10, 11]\n"
     ]
    }
   ],
   "source": [
    "# 리스트에 리스트 추가하기\n",
    "# 리스트 1에 리스트2를 순서대로 추가\n",
    "numbers.extend([9, 10, 11])\n",
    "print(numbers)"
   ]
  },
  {
   "cell_type": "code",
   "execution_count": 47,
   "id": "9e2eca1f-bf0b-455c-a793-edec11f7fcd1",
   "metadata": {
    "tags": []
   },
   "outputs": [
    {
     "name": "stdout",
     "output_type": "stream",
     "text": [
      "[0, 1, 2, 3, 4, 0, 6, 7, 10, 0, 9, 10, 11]\n"
     ]
    }
   ],
   "source": [
    "# 리스트변수.remove(삭제하고 싶은 요소의 값)\n",
    "# 삭제하고 싶은 요소의 값과 동일한 값의 요소 제거\n",
    "numbers.remove(5)\n",
    "print(numbers)"
   ]
  },
  {
   "cell_type": "code",
   "execution_count": 48,
   "id": "d70cfa14-b997-4cbb-8bdc-e34a32916720",
   "metadata": {
    "tags": []
   },
   "outputs": [
    {
     "name": "stdout",
     "output_type": "stream",
     "text": [
      "11\n",
      "[0, 1, 2, 3, 4, 0, 6, 7, 10, 0, 9, 10]\n"
     ]
    }
   ],
   "source": [
    "# 리스트변수.pop() 제일 마지막 요소 변환 후 제거\n",
    "print(numbers.pop())\n",
    "print(numbers)"
   ]
  },
  {
   "cell_type": "code",
   "execution_count": 51,
   "id": "906105c2-26eb-4547-b85c-e38c33ac3cec",
   "metadata": {
    "tags": []
   },
   "outputs": [
    {
     "name": "stdout",
     "output_type": "stream",
     "text": [
      "None\n"
     ]
    }
   ],
   "source": [
    "print(numbers.append(11))\n",
    "# append 안에는 리턴해주는 내용은 없음"
   ]
  },
  {
   "cell_type": "code",
   "execution_count": 52,
   "id": "e38de2d4-8a6d-405a-9939-545c6461ee69",
   "metadata": {
    "tags": []
   },
   "outputs": [
    {
     "name": "stdout",
     "output_type": "stream",
     "text": [
      "[0, 1, 2, 3, 4, 0, 6, 7, 10, 0, 9, 10, 11, 11]\n"
     ]
    }
   ],
   "source": [
    "print(numbers)"
   ]
  },
  {
   "cell_type": "code",
   "execution_count": 53,
   "id": "ef86e21d-7e0f-43b9-a3d8-b3409ba6c685",
   "metadata": {
    "tags": []
   },
   "outputs": [
    {
     "name": "stdout",
     "output_type": "stream",
     "text": [
      "[0, 1, 2, 3, 4, 0, 6, 7, 10, 0, 9, 10, 11, 11]\n"
     ]
    }
   ],
   "source": [
    "# 리스트변수.index(인덱스를 찾고자 하는 값)\n",
    "# 인덱스 위치를 알고싶은 요소의 결과 일치하는\n",
    "# 인덱스 순서로 봤을 때 첫번째로 등장한 요소의 인덱스 숫자를\n",
    "# 반환합니다.\n",
    "print(numbers)"
   ]
  },
  {
   "cell_type": "code",
   "execution_count": 59,
   "id": "b1e354c1-e89e-41b8-91a2-e9d95e2d2ed9",
   "metadata": {
    "tags": []
   },
   "outputs": [
    {
     "name": "stdout",
     "output_type": "stream",
     "text": [
      "8\n"
     ]
    }
   ],
   "source": [
    "print(numbers.index(10))"
   ]
  },
  {
   "cell_type": "code",
   "execution_count": 61,
   "id": "ea0e2e9a-92c6-4e9c-81ae-f0d8922ba09c",
   "metadata": {
    "tags": []
   },
   "outputs": [
    {
     "name": "stdout",
     "output_type": "stream",
     "text": [
      "3\n"
     ]
    }
   ],
   "source": [
    "# 리스트변수.count(요소의 값)\n",
    "# 소괄호 안에 넣어준 요소의 값(인자)과 같은 것의 개수를 반환\n",
    "print(numbers.count(0))\n",
    "# pirnt(3)\n",
    "# 3"
   ]
  },
  {
   "cell_type": "code",
   "execution_count": 62,
   "id": "0618e375-a95f-4bf7-baab-8ba18eddd57f",
   "metadata": {
    "tags": []
   },
   "outputs": [
    {
     "name": "stdout",
     "output_type": "stream",
     "text": [
      "None\n"
     ]
    }
   ],
   "source": [
    "# 리스트변수.sort()\n",
    "# 리스트 변수를 오름차순으로 변경\n",
    "print(numbers.sort())"
   ]
  },
  {
   "cell_type": "code",
   "execution_count": 63,
   "id": "b35fdc71-8919-443b-adb4-dbfa478f70ae",
   "metadata": {
    "tags": []
   },
   "outputs": [
    {
     "name": "stdout",
     "output_type": "stream",
     "text": [
      "[0, 0, 0, 1, 2, 3, 4, 6, 7, 9, 10, 10, 11, 11]\n"
     ]
    }
   ],
   "source": [
    "print(numbers)"
   ]
  },
  {
   "cell_type": "code",
   "execution_count": 64,
   "id": "e7c2b0cf-f472-4b71-ae0c-42302601bfe8",
   "metadata": {
    "tags": []
   },
   "outputs": [
    {
     "name": "stdout",
     "output_type": "stream",
     "text": [
      "[11, 11, 10, 10, 9, 7, 6, 4, 3, 2, 1, 0, 0, 0]\n"
     ]
    }
   ],
   "source": [
    "# 리스트변수.reverse()\n",
    "# 순서를 뒤집음. 정렬은 따로 하지 않음\n",
    "numbers.reverse()\n",
    "print(numbers)"
   ]
  },
  {
   "cell_type": "code",
   "execution_count": 65,
   "id": "0d1bf684-84e4-4fdb-84f1-affc180b888b",
   "metadata": {
    "tags": []
   },
   "outputs": [
    {
     "name": "stdout",
     "output_type": "stream",
     "text": [
      "[3, 4, 5, 6]\n"
     ]
    }
   ],
   "source": [
    "# 리스트로 스택 구조 활용하기\n",
    "# 3, 4, 5 라는 값을 순서대로 보기\n",
    "# 6이라는 값과 7이라는 값을 차례로 추가하기\n",
    "# 제일 바깥쪽(last)에 있는 값을 슨서대로 3개를 꺼내기\n",
    "stack_var = [3, 4, 5]\n",
    "stack_var.append(6)\n",
    "print(stack_var)"
   ]
  },
  {
   "cell_type": "code",
   "execution_count": 66,
   "id": "d673e49e-8894-4fad-aad5-8592fc121ad5",
   "metadata": {
    "tags": []
   },
   "outputs": [
    {
     "name": "stdout",
     "output_type": "stream",
     "text": [
      "[3, 4, 5, 6, 7]\n"
     ]
    }
   ],
   "source": [
    "stack_var.append(7)\n",
    "print(stack_var)"
   ]
  },
  {
   "cell_type": "code",
   "execution_count": 67,
   "id": "1d21c257-c6c7-4af8-a3df-3654b8130c69",
   "metadata": {
    "tags": []
   },
   "outputs": [
    {
     "name": "stdout",
     "output_type": "stream",
     "text": [
      "7\n"
     ]
    }
   ],
   "source": [
    "print(stack_var.pop())"
   ]
  },
  {
   "cell_type": "code",
   "execution_count": 68,
   "id": "fe43a548-df5f-4b65-b804-7c9ee3a8a187",
   "metadata": {
    "tags": []
   },
   "outputs": [
    {
     "name": "stdout",
     "output_type": "stream",
     "text": [
      "6\n"
     ]
    }
   ],
   "source": [
    "print(stack_var.pop())"
   ]
  },
  {
   "cell_type": "code",
   "execution_count": 69,
   "id": "eedaff6c-63c3-4a28-b02a-150a4db9d194",
   "metadata": {
    "tags": []
   },
   "outputs": [
    {
     "name": "stdout",
     "output_type": "stream",
     "text": [
      "5\n"
     ]
    }
   ],
   "source": [
    "print(stack_var.pop())"
   ]
  },
  {
   "cell_type": "code",
   "execution_count": 70,
   "id": "61553d9d-cfdf-405d-a1a5-d5b9b9631cc3",
   "metadata": {
    "tags": []
   },
   "outputs": [
    {
     "name": "stdout",
     "output_type": "stream",
     "text": [
      "[3, 4]\n"
     ]
    }
   ],
   "source": [
    "print(stack_var)"
   ]
  },
  {
   "cell_type": "code",
   "execution_count": null,
   "id": "df06df70-fc84-4ace-8552-f327ba6b0dbd",
   "metadata": {},
   "outputs": [],
   "source": []
  }
 ],
 "metadata": {
  "kernelspec": {
   "display_name": "Python 3 (ipykernel)",
   "language": "python",
   "name": "python3"
  },
  "language_info": {
   "codemirror_mode": {
    "name": "ipython",
    "version": 3
   },
   "file_extension": ".py",
   "mimetype": "text/x-python",
   "name": "python",
   "nbconvert_exporter": "python",
   "pygments_lexer": "ipython3",
   "version": "3.11.5"
  }
 },
 "nbformat": 4,
 "nbformat_minor": 5
}
