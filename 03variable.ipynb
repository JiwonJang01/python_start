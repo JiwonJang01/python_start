{
 "cells": [
  {
   "cell_type": "code",
   "execution_count": 1,
   "id": "11e6ee75-8280-40b2-9184-bf5846a92fed",
   "metadata": {
    "tags": []
   },
   "outputs": [],
   "source": [
    "# a변수 선언 후 숫자 리터럴 10 값을 할당"
   ]
  },
  {
   "cell_type": "code",
   "execution_count": 2,
   "id": "ffc5e7f7-dfde-411f-8edc-5776d5f5721a",
   "metadata": {
    "tags": []
   },
   "outputs": [],
   "source": [
    "a = 10"
   ]
  },
  {
   "cell_type": "code",
   "execution_count": 3,
   "id": "c55d5874-24dd-4ebd-8d93-14079590d732",
   "metadata": {
    "tags": []
   },
   "outputs": [
    {
     "name": "stdout",
     "output_type": "stream",
     "text": [
      "10\n"
     ]
    }
   ],
   "source": [
    "print(a)"
   ]
  },
  {
   "cell_type": "code",
   "execution_count": 4,
   "id": "49d3a3da-3335-465e-a8a1-31eccaaaf7a1",
   "metadata": {
    "tags": []
   },
   "outputs": [
    {
     "name": "stdout",
     "output_type": "stream",
     "text": [
      "30\n"
     ]
    }
   ],
   "source": [
    "# a 변수 값에 20을 더한 값을 a변수에 할당\n",
    "print(a+20)"
   ]
  },
  {
   "cell_type": "code",
   "execution_count": 5,
   "id": "7b164d5b-3d38-4df3-8212-5ece3c5ddab0",
   "metadata": {
    "tags": []
   },
   "outputs": [
    {
     "name": "stdout",
     "output_type": "stream",
     "text": [
      "10\n"
     ]
    }
   ],
   "source": [
    "print(a)"
   ]
  },
  {
   "cell_type": "code",
   "execution_count": 6,
   "id": "33ea841b-94da-4a7b-8ef4-159d442e7e46",
   "metadata": {
    "tags": []
   },
   "outputs": [
    {
     "name": "stdout",
     "output_type": "stream",
     "text": [
      "30\n"
     ]
    }
   ],
   "source": [
    "a = a + 20\n",
    "print(a)"
   ]
  },
  {
   "cell_type": "code",
   "execution_count": 7,
   "id": "f583c4a5-8ab7-4759-bcef-513f0d65bc97",
   "metadata": {
    "tags": []
   },
   "outputs": [],
   "source": [
    "# a 변수를 삭제 후 a 변수를 출력\n",
    "del a"
   ]
  },
  {
   "cell_type": "code",
   "execution_count": 8,
   "id": "887f9c41-5f36-4d1b-8881-a10e8182fef6",
   "metadata": {
    "tags": []
   },
   "outputs": [
    {
     "ename": "NameError",
     "evalue": "name 'a' is not defined",
     "output_type": "error",
     "traceback": [
      "\u001b[1;31m---------------------------------------------------------------------------\u001b[0m",
      "\u001b[1;31mNameError\u001b[0m                                 Traceback (most recent call last)",
      "Cell \u001b[1;32mIn[8], line 1\u001b[0m\n\u001b[1;32m----> 1\u001b[0m \u001b[38;5;28mprint\u001b[39m(a)\n",
      "\u001b[1;31mNameError\u001b[0m: name 'a' is not defined"
     ]
    }
   ],
   "source": [
    "print(a)"
   ]
  },
  {
   "cell_type": "code",
   "execution_count": 9,
   "id": "ccce1e58-75a9-438f-9054-a5871f640749",
   "metadata": {
    "tags": []
   },
   "outputs": [],
   "source": [
    "a = 10"
   ]
  },
  {
   "cell_type": "code",
   "execution_count": 10,
   "id": "84458b05-8c4d-45e0-bff4-6dfccf981c10",
   "metadata": {
    "tags": []
   },
   "outputs": [
    {
     "name": "stdout",
     "output_type": "stream",
     "text": [
      "10\n"
     ]
    }
   ],
   "source": [
    "print(a)"
   ]
  },
  {
   "cell_type": "code",
   "execution_count": 11,
   "id": "92971d3a-5198-4bf4-819d-31f8f109b1f6",
   "metadata": {
    "tags": []
   },
   "outputs": [],
   "source": [
    "#a 변수의 값을 20 증가 시킨다.\n",
    "a = a + 20"
   ]
  },
  {
   "cell_type": "code",
   "execution_count": 12,
   "id": "e2b3d434-2264-4d5f-a02a-d14695e59798",
   "metadata": {
    "tags": []
   },
   "outputs": [
    {
     "name": "stdout",
     "output_type": "stream",
     "text": [
      "30\n"
     ]
    }
   ],
   "source": [
    "print(a)"
   ]
  },
  {
   "cell_type": "code",
   "execution_count": 13,
   "id": "c6e75425-7b03-4716-b508-9af87e701390",
   "metadata": {
    "tags": []
   },
   "outputs": [
    {
     "name": "stdout",
     "output_type": "stream",
     "text": [
      "50\n"
     ]
    }
   ],
   "source": [
    "# 복합대입연산자: 우측에 있는 값만큼 변수의 값을 증가\n",
    "# a = a + 20\n",
    "a += 20\n",
    "print(a)"
   ]
  },
  {
   "cell_type": "code",
   "execution_count": 15,
   "id": "62b7e350-3638-4025-807b-25e8667e21b0",
   "metadata": {
    "tags": []
   },
   "outputs": [
    {
     "name": "stdout",
     "output_type": "stream",
     "text": [
      "None\n"
     ]
    }
   ],
   "source": [
    "# None: 값 자체가 없다는 의미\n",
    "# \"None\" 은 문자열이 none이라는 의미\n",
    "a = None\n",
    "print(a)"
   ]
  },
  {
   "cell_type": "code",
   "execution_count": null,
   "id": "831d593f-bdc7-4f46-998c-da7a2f37f80a",
   "metadata": {},
   "outputs": [],
   "source": []
  }
 ],
 "metadata": {
  "kernelspec": {
   "display_name": "Python 3 (ipykernel)",
   "language": "python",
   "name": "python3"
  },
  "language_info": {
   "codemirror_mode": {
    "name": "ipython",
    "version": 3
   },
   "file_extension": ".py",
   "mimetype": "text/x-python",
   "name": "python",
   "nbconvert_exporter": "python",
   "pygments_lexer": "ipython3",
   "version": "3.11.5"
  }
 },
 "nbformat": 4,
 "nbformat_minor": 5
}
