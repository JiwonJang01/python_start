{
 "cells": [
  {
   "cell_type": "code",
   "execution_count": 1,
   "id": "30bb834d-0969-414d-a937-ee4f702ae1dc",
   "metadata": {
    "tags": []
   },
   "outputs": [
    {
     "name": "stdin",
     "output_type": "stream",
     "text": [
      "아무값이나 입력하세요 낭\n"
     ]
    },
    {
     "name": "stdout",
     "output_type": "stream",
     "text": [
      "낭\n"
     ]
    }
   ],
   "source": [
    "# input()\n",
    "# 키보드 입력을 받을 때 사용하는 내장 함수 \n",
    "\n",
    "print(input(\"아무값이나 입력하세요\"))\n",
    "# print(아무값이나 출력하겠습니다.)"
   ]
  },
  {
   "cell_type": "code",
   "execution_count": 3,
   "id": "bdfc7796-1eec-48ac-a49a-1ced005463e1",
   "metadata": {
    "tags": []
   },
   "outputs": [
    {
     "name": "stdin",
     "output_type": "stream",
     "text": [
      "정수 값을 입력해주세요 10\n"
     ]
    }
   ],
   "source": [
    "some_str = input(\"정수 값을 입력해주세요\") # str 값이 반환된다.\n",
    "input_value = int(some_str)"
   ]
  },
  {
   "cell_type": "code",
   "execution_count": 4,
   "id": "699e193b-2711-412d-b638-8be0b391ea4c",
   "metadata": {
    "tags": []
   },
   "outputs": [
    {
     "name": "stdout",
     "output_type": "stream",
     "text": [
      "<class 'int'>\n"
     ]
    }
   ],
   "source": [
    "print(type(input_value))"
   ]
  },
  {
   "cell_type": "code",
   "execution_count": 5,
   "id": "3075f6b8-1374-4437-baec-b65e4836bf70",
   "metadata": {
    "tags": []
   },
   "outputs": [
    {
     "name": "stdout",
     "output_type": "stream",
     "text": [
      "10\n"
     ]
    }
   ],
   "source": [
    "print(input_value)"
   ]
  },
  {
   "cell_type": "code",
   "execution_count": 6,
   "id": "cca879c1-3127-410c-8f33-0a84215233b0",
   "metadata": {
    "tags": []
   },
   "outputs": [
    {
     "name": "stdin",
     "output_type": "stream",
     "text": [
      "정수 값을 입력해주세요 30\n"
     ]
    }
   ],
   "source": [
    "# 한줄로 줄여서 작성\n",
    "input_value = int(input(\"정수 값을 입력해주세요\"))"
   ]
  },
  {
   "cell_type": "code",
   "execution_count": 7,
   "id": "f7ab1b10-002f-47d9-bd0e-8a36a75ce61b",
   "metadata": {
    "tags": []
   },
   "outputs": [
    {
     "name": "stdout",
     "output_type": "stream",
     "text": [
      "<class 'int'>\n"
     ]
    }
   ],
   "source": [
    "print(type(input_value))"
   ]
  },
  {
   "cell_type": "code",
   "execution_count": null,
   "id": "1a6de00c-e10e-4823-bb22-0ee01f2800b0",
   "metadata": {},
   "outputs": [],
   "source": []
  }
 ],
 "metadata": {
  "kernelspec": {
   "display_name": "Python 3 (ipykernel)",
   "language": "python",
   "name": "python3"
  },
  "language_info": {
   "codemirror_mode": {
    "name": "ipython",
    "version": 3
   },
   "file_extension": ".py",
   "mimetype": "text/x-python",
   "name": "python",
   "nbconvert_exporter": "python",
   "pygments_lexer": "ipython3",
   "version": "3.11.5"
  }
 },
 "nbformat": 4,
 "nbformat_minor": 5
}
