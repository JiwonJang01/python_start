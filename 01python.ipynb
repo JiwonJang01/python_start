{
 "cells": [
  {
   "cell_type": "code",
   "execution_count": 3,
   "id": "91f2b593-4e82-4ecf-b09a-47b7b3e66996",
   "metadata": {
    "tags": []
   },
   "outputs": [
    {
     "name": "stdout",
     "output_type": "stream",
     "text": [
      "3.11.5 | packaged by Anaconda, Inc. | (main, Sep 11 2023, 13:26:23) [MSC v.1916 64 bit (AMD64)]\n"
     ]
    }
   ],
   "source": [
    "import sys\n",
    "print(sys.version)"
   ]
  },
  {
   "cell_type": "code",
   "execution_count": 4,
   "id": "1b4db63c-e189-4c16-a667-a55c8b975f20",
   "metadata": {
    "tags": []
   },
   "outputs": [
    {
     "name": "stdout",
     "output_type": "stream",
     "text": [
      " C 드라이브의 볼륨에는 이름이 없습니다.\n",
      " 볼륨 일련 번호: 6641-8CC9\n",
      "\n",
      " C:\\python 디렉터리\n",
      "\n",
      "2024-01-18  오후 07:28    <DIR>          .\n",
      "2024-01-18  오후 07:27    <DIR>          .ipynb_checkpoints\n",
      "2024-01-18  오후 07:28               664 01python.ipynb\n",
      "               1개 파일                 664 바이트\n",
      "               2개 디렉터리  244,819,324,928 바이트 남음\n"
     ]
    }
   ],
   "source": [
    "!dir"
   ]
  }
 ],
 "metadata": {
  "kernelspec": {
   "display_name": "Python 3 (ipykernel)",
   "language": "python",
   "name": "python3"
  },
  "language_info": {
   "codemirror_mode": {
    "name": "ipython",
    "version": 3
   },
   "file_extension": ".py",
   "mimetype": "text/x-python",
   "name": "python",
   "nbconvert_exporter": "python",
   "pygments_lexer": "ipython3",
   "version": "3.11.5"
  }
 },
 "nbformat": 4,
 "nbformat_minor": 5
}
